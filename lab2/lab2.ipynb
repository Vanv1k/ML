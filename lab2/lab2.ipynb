{
 "cells": [
  {
   "cell_type": "code",
   "execution_count": 1,
   "id": "0564a0a8-4927-4537-910c-ef3f6adfae28",
   "metadata": {
    "tags": []
   },
   "outputs": [],
   "source": [
    "import numpy as np\n",
    "import pandas as pd\n",
    "import seaborn as sns\n",
    "import matplotlib.pyplot as plt\n",
    "%matplotlib inline \n",
    "sns.set(style=\"ticks\")"
   ]
  },
  {
   "cell_type": "code",
   "execution_count": 9,
   "id": "7fa1d3d5-61b6-48ed-b488-30342367cec6",
   "metadata": {
    "tags": []
   },
   "outputs": [],
   "source": [
    "data = pd.read_csv('Car_sales.csv', sep=\",\")"
   ]
  },
  {
   "cell_type": "code",
   "execution_count": 10,
   "id": "674fa82d-ecaf-4244-a865-e8d8d0b39c0c",
   "metadata": {
    "tags": []
   },
   "outputs": [
    {
     "data": {
      "text/plain": [
       "(157, 16)"
      ]
     },
     "execution_count": 10,
     "metadata": {},
     "output_type": "execute_result"
    }
   ],
   "source": [
    "data.shape"
   ]
  },
  {
   "cell_type": "code",
   "execution_count": 11,
   "id": "8eec2068-6f88-4b0f-9a37-2a7c4fff3e82",
   "metadata": {
    "tags": []
   },
   "outputs": [
    {
     "data": {
      "text/plain": [
       "Manufacturer            object\n",
       "Model                   object\n",
       "Sales_in_thousands     float64\n",
       "__year_resale_value    float64\n",
       "Vehicle_type            object\n",
       "Price_in_thousands     float64\n",
       "Engine_size            float64\n",
       "Horsepower             float64\n",
       "Wheelbase              float64\n",
       "Width                  float64\n",
       "Length                 float64\n",
       "Curb_weight            float64\n",
       "Fuel_capacity          float64\n",
       "Fuel_efficiency        float64\n",
       "Latest_Launch           object\n",
       "Power_perf_factor      float64\n",
       "dtype: object"
      ]
     },
     "execution_count": 11,
     "metadata": {},
     "output_type": "execute_result"
    }
   ],
   "source": [
    "data.dtypes"
   ]
  },
  {
   "cell_type": "code",
   "execution_count": 12,
   "id": "b792217c-3c0e-4003-a320-8aca14c81f9d",
   "metadata": {
    "tags": []
   },
   "outputs": [
    {
     "data": {
      "text/plain": [
       "Manufacturer            0\n",
       "Model                   0\n",
       "Sales_in_thousands      0\n",
       "__year_resale_value    36\n",
       "Vehicle_type            2\n",
       "Price_in_thousands      2\n",
       "Engine_size             1\n",
       "Horsepower              1\n",
       "Wheelbase               1\n",
       "Width                   1\n",
       "Length                  1\n",
       "Curb_weight             2\n",
       "Fuel_capacity           1\n",
       "Fuel_efficiency         3\n",
       "Latest_Launch           0\n",
       "Power_perf_factor       2\n",
       "dtype: int64"
      ]
     },
     "execution_count": 12,
     "metadata": {},
     "output_type": "execute_result"
    }
   ],
   "source": [
    "data.isnull().sum()"
   ]
  },
  {
   "cell_type": "code",
   "execution_count": 13,
   "id": "69616092-1b89-454e-b9fa-62069e4044c7",
   "metadata": {
    "tags": []
   },
   "outputs": [
    {
     "data": {
      "text/html": [
       "<div>\n",
       "<style scoped>\n",
       "    .dataframe tbody tr th:only-of-type {\n",
       "        vertical-align: middle;\n",
       "    }\n",
       "\n",
       "    .dataframe tbody tr th {\n",
       "        vertical-align: top;\n",
       "    }\n",
       "\n",
       "    .dataframe thead th {\n",
       "        text-align: right;\n",
       "    }\n",
       "</style>\n",
       "<table border=\"1\" class=\"dataframe\">\n",
       "  <thead>\n",
       "    <tr style=\"text-align: right;\">\n",
       "      <th></th>\n",
       "      <th>Manufacturer</th>\n",
       "      <th>Model</th>\n",
       "      <th>Sales_in_thousands</th>\n",
       "      <th>__year_resale_value</th>\n",
       "      <th>Vehicle_type</th>\n",
       "      <th>Price_in_thousands</th>\n",
       "      <th>Engine_size</th>\n",
       "      <th>Horsepower</th>\n",
       "      <th>Wheelbase</th>\n",
       "      <th>Width</th>\n",
       "      <th>Length</th>\n",
       "      <th>Curb_weight</th>\n",
       "      <th>Fuel_capacity</th>\n",
       "      <th>Fuel_efficiency</th>\n",
       "      <th>Latest_Launch</th>\n",
       "      <th>Power_perf_factor</th>\n",
       "    </tr>\n",
       "  </thead>\n",
       "  <tbody>\n",
       "    <tr>\n",
       "      <th>0</th>\n",
       "      <td>Acura</td>\n",
       "      <td>Integra</td>\n",
       "      <td>16.919</td>\n",
       "      <td>16.360</td>\n",
       "      <td>NaN</td>\n",
       "      <td>21.50</td>\n",
       "      <td>1.8</td>\n",
       "      <td>140.0</td>\n",
       "      <td>101.2</td>\n",
       "      <td>67.3</td>\n",
       "      <td>172.4</td>\n",
       "      <td>2.639</td>\n",
       "      <td>13.2</td>\n",
       "      <td>28.0</td>\n",
       "      <td>2/2/2012</td>\n",
       "      <td>58.280150</td>\n",
       "    </tr>\n",
       "    <tr>\n",
       "      <th>1</th>\n",
       "      <td>Acura</td>\n",
       "      <td>TL</td>\n",
       "      <td>39.384</td>\n",
       "      <td>19.875</td>\n",
       "      <td>Passenger</td>\n",
       "      <td>28.40</td>\n",
       "      <td>3.2</td>\n",
       "      <td>225.0</td>\n",
       "      <td>108.1</td>\n",
       "      <td>70.3</td>\n",
       "      <td>192.9</td>\n",
       "      <td>3.517</td>\n",
       "      <td>17.2</td>\n",
       "      <td>25.0</td>\n",
       "      <td>6/3/2011</td>\n",
       "      <td>91.370778</td>\n",
       "    </tr>\n",
       "    <tr>\n",
       "      <th>2</th>\n",
       "      <td>Acura</td>\n",
       "      <td>CL</td>\n",
       "      <td>14.114</td>\n",
       "      <td>18.225</td>\n",
       "      <td>Passenger</td>\n",
       "      <td>NaN</td>\n",
       "      <td>3.2</td>\n",
       "      <td>225.0</td>\n",
       "      <td>106.9</td>\n",
       "      <td>70.6</td>\n",
       "      <td>192.0</td>\n",
       "      <td>3.470</td>\n",
       "      <td>17.2</td>\n",
       "      <td>26.0</td>\n",
       "      <td>1/4/2012</td>\n",
       "      <td>NaN</td>\n",
       "    </tr>\n",
       "    <tr>\n",
       "      <th>3</th>\n",
       "      <td>Acura</td>\n",
       "      <td>RL</td>\n",
       "      <td>8.588</td>\n",
       "      <td>29.725</td>\n",
       "      <td>Passenger</td>\n",
       "      <td>42.00</td>\n",
       "      <td>3.5</td>\n",
       "      <td>210.0</td>\n",
       "      <td>114.6</td>\n",
       "      <td>71.4</td>\n",
       "      <td>196.6</td>\n",
       "      <td>3.850</td>\n",
       "      <td>18.0</td>\n",
       "      <td>22.0</td>\n",
       "      <td>3/10/2011</td>\n",
       "      <td>91.389779</td>\n",
       "    </tr>\n",
       "    <tr>\n",
       "      <th>4</th>\n",
       "      <td>Audi</td>\n",
       "      <td>A4</td>\n",
       "      <td>20.397</td>\n",
       "      <td>22.255</td>\n",
       "      <td>Passenger</td>\n",
       "      <td>23.99</td>\n",
       "      <td>1.8</td>\n",
       "      <td>150.0</td>\n",
       "      <td>102.6</td>\n",
       "      <td>68.2</td>\n",
       "      <td>178.0</td>\n",
       "      <td>2.998</td>\n",
       "      <td>16.4</td>\n",
       "      <td>27.0</td>\n",
       "      <td>10/8/2011</td>\n",
       "      <td>62.777639</td>\n",
       "    </tr>\n",
       "  </tbody>\n",
       "</table>\n",
       "</div>"
      ],
      "text/plain": [
       "  Manufacturer    Model  Sales_in_thousands  __year_resale_value Vehicle_type  \\\n",
       "0        Acura  Integra              16.919               16.360          NaN   \n",
       "1        Acura       TL              39.384               19.875    Passenger   \n",
       "2        Acura       CL              14.114               18.225    Passenger   \n",
       "3        Acura       RL               8.588               29.725    Passenger   \n",
       "4         Audi       A4              20.397               22.255    Passenger   \n",
       "\n",
       "   Price_in_thousands  Engine_size  Horsepower  Wheelbase  Width  Length  \\\n",
       "0               21.50          1.8       140.0      101.2   67.3   172.4   \n",
       "1               28.40          3.2       225.0      108.1   70.3   192.9   \n",
       "2                 NaN          3.2       225.0      106.9   70.6   192.0   \n",
       "3               42.00          3.5       210.0      114.6   71.4   196.6   \n",
       "4               23.99          1.8       150.0      102.6   68.2   178.0   \n",
       "\n",
       "   Curb_weight  Fuel_capacity  Fuel_efficiency Latest_Launch  \\\n",
       "0        2.639           13.2             28.0      2/2/2012   \n",
       "1        3.517           17.2             25.0      6/3/2011   \n",
       "2        3.470           17.2             26.0      1/4/2012   \n",
       "3        3.850           18.0             22.0     3/10/2011   \n",
       "4        2.998           16.4             27.0     10/8/2011   \n",
       "\n",
       "   Power_perf_factor  \n",
       "0          58.280150  \n",
       "1          91.370778  \n",
       "2                NaN  \n",
       "3          91.389779  \n",
       "4          62.777639  "
      ]
     },
     "execution_count": 13,
     "metadata": {},
     "output_type": "execute_result"
    }
   ],
   "source": [
    "data.head()"
   ]
  },
  {
   "cell_type": "code",
   "execution_count": 14,
   "id": "3594b2ce-83f0-4f5a-b424-82d534db0b56",
   "metadata": {
    "tags": []
   },
   "outputs": [
    {
     "name": "stdout",
     "output_type": "stream",
     "text": [
      "Всего строк: 157\n"
     ]
    }
   ],
   "source": [
    "total_count = data.shape[0]\n",
    "print('Всего строк: {}'.format(total_count))"
   ]
  },
  {
   "cell_type": "code",
   "execution_count": 15,
   "id": "fd0b0aad-b087-4337-81c0-58f508490696",
   "metadata": {
    "tags": []
   },
   "outputs": [
    {
     "data": {
      "text/plain": [
       "((157, 16), (157, 4))"
      ]
     },
     "execution_count": 15,
     "metadata": {},
     "output_type": "execute_result"
    }
   ],
   "source": [
    "# Удаление колонок, содержащих пустые значения\n",
    "data_new_1 = data.dropna(axis=1, how='any')\n",
    "(data.shape, data_new_1.shape)"
   ]
  },
  {
   "cell_type": "code",
   "execution_count": 16,
   "id": "ce9688f2-c929-4bcc-9d52-052407a69ad0",
   "metadata": {
    "tags": []
   },
   "outputs": [
    {
     "data": {
      "text/plain": [
       "((157, 16), (115, 16))"
      ]
     },
     "execution_count": 16,
     "metadata": {},
     "output_type": "execute_result"
    }
   ],
   "source": [
    "# Удаление строк, содержащих пустые значения\n",
    "data_new_2 = data.dropna(axis=0, how='any')\n",
    "(data.shape, data_new_2.shape)"
   ]
  },
  {
   "cell_type": "code",
   "execution_count": 32,
   "id": "6f629db0-3d8b-4f25-bb78-60f5723a22f2",
   "metadata": {
    "tags": []
   },
   "outputs": [
    {
     "data": {
      "text/html": [
       "<div>\n",
       "<style scoped>\n",
       "    .dataframe tbody tr th:only-of-type {\n",
       "        vertical-align: middle;\n",
       "    }\n",
       "\n",
       "    .dataframe tbody tr th {\n",
       "        vertical-align: top;\n",
       "    }\n",
       "\n",
       "    .dataframe thead th {\n",
       "        text-align: right;\n",
       "    }\n",
       "</style>\n",
       "<table border=\"1\" class=\"dataframe\">\n",
       "  <thead>\n",
       "    <tr style=\"text-align: right;\">\n",
       "      <th></th>\n",
       "      <th>Manufacturer</th>\n",
       "      <th>Model</th>\n",
       "      <th>Sales_in_thousands</th>\n",
       "      <th>__year_resale_value</th>\n",
       "      <th>Vehicle_type</th>\n",
       "      <th>Price_in_thousands</th>\n",
       "      <th>Engine_size</th>\n",
       "      <th>Horsepower</th>\n",
       "      <th>Wheelbase</th>\n",
       "      <th>Width</th>\n",
       "      <th>Length</th>\n",
       "      <th>Curb_weight</th>\n",
       "      <th>Fuel_capacity</th>\n",
       "      <th>Fuel_efficiency</th>\n",
       "      <th>Latest_Launch</th>\n",
       "      <th>Power_perf_factor</th>\n",
       "    </tr>\n",
       "  </thead>\n",
       "  <tbody>\n",
       "    <tr>\n",
       "      <th>0</th>\n",
       "      <td>Acura</td>\n",
       "      <td>Integra</td>\n",
       "      <td>16.919</td>\n",
       "      <td>16.360</td>\n",
       "      <td>0</td>\n",
       "      <td>21.50</td>\n",
       "      <td>1.8</td>\n",
       "      <td>140.0</td>\n",
       "      <td>101.2</td>\n",
       "      <td>67.3</td>\n",
       "      <td>172.4</td>\n",
       "      <td>2.639</td>\n",
       "      <td>13.2</td>\n",
       "      <td>28.0</td>\n",
       "      <td>2/2/2012</td>\n",
       "      <td>58.280150</td>\n",
       "    </tr>\n",
       "    <tr>\n",
       "      <th>1</th>\n",
       "      <td>Acura</td>\n",
       "      <td>TL</td>\n",
       "      <td>39.384</td>\n",
       "      <td>19.875</td>\n",
       "      <td>Passenger</td>\n",
       "      <td>28.40</td>\n",
       "      <td>3.2</td>\n",
       "      <td>225.0</td>\n",
       "      <td>108.1</td>\n",
       "      <td>70.3</td>\n",
       "      <td>192.9</td>\n",
       "      <td>3.517</td>\n",
       "      <td>17.2</td>\n",
       "      <td>25.0</td>\n",
       "      <td>6/3/2011</td>\n",
       "      <td>91.370778</td>\n",
       "    </tr>\n",
       "    <tr>\n",
       "      <th>2</th>\n",
       "      <td>Acura</td>\n",
       "      <td>CL</td>\n",
       "      <td>14.114</td>\n",
       "      <td>18.225</td>\n",
       "      <td>Passenger</td>\n",
       "      <td>0.00</td>\n",
       "      <td>3.2</td>\n",
       "      <td>225.0</td>\n",
       "      <td>106.9</td>\n",
       "      <td>70.6</td>\n",
       "      <td>192.0</td>\n",
       "      <td>3.470</td>\n",
       "      <td>17.2</td>\n",
       "      <td>26.0</td>\n",
       "      <td>1/4/2012</td>\n",
       "      <td>0.000000</td>\n",
       "    </tr>\n",
       "    <tr>\n",
       "      <th>3</th>\n",
       "      <td>Acura</td>\n",
       "      <td>RL</td>\n",
       "      <td>8.588</td>\n",
       "      <td>29.725</td>\n",
       "      <td>Passenger</td>\n",
       "      <td>42.00</td>\n",
       "      <td>3.5</td>\n",
       "      <td>210.0</td>\n",
       "      <td>114.6</td>\n",
       "      <td>71.4</td>\n",
       "      <td>196.6</td>\n",
       "      <td>3.850</td>\n",
       "      <td>18.0</td>\n",
       "      <td>22.0</td>\n",
       "      <td>3/10/2011</td>\n",
       "      <td>91.389779</td>\n",
       "    </tr>\n",
       "    <tr>\n",
       "      <th>4</th>\n",
       "      <td>Audi</td>\n",
       "      <td>A4</td>\n",
       "      <td>20.397</td>\n",
       "      <td>22.255</td>\n",
       "      <td>Passenger</td>\n",
       "      <td>23.99</td>\n",
       "      <td>1.8</td>\n",
       "      <td>150.0</td>\n",
       "      <td>102.6</td>\n",
       "      <td>68.2</td>\n",
       "      <td>178.0</td>\n",
       "      <td>2.998</td>\n",
       "      <td>16.4</td>\n",
       "      <td>27.0</td>\n",
       "      <td>10/8/2011</td>\n",
       "      <td>62.777639</td>\n",
       "    </tr>\n",
       "  </tbody>\n",
       "</table>\n",
       "</div>"
      ],
      "text/plain": [
       "  Manufacturer    Model  Sales_in_thousands  __year_resale_value Vehicle_type  \\\n",
       "0        Acura  Integra              16.919               16.360            0   \n",
       "1        Acura       TL              39.384               19.875    Passenger   \n",
       "2        Acura       CL              14.114               18.225    Passenger   \n",
       "3        Acura       RL               8.588               29.725    Passenger   \n",
       "4         Audi       A4              20.397               22.255    Passenger   \n",
       "\n",
       "   Price_in_thousands  Engine_size  Horsepower  Wheelbase  Width  Length  \\\n",
       "0               21.50          1.8       140.0      101.2   67.3   172.4   \n",
       "1               28.40          3.2       225.0      108.1   70.3   192.9   \n",
       "2                0.00          3.2       225.0      106.9   70.6   192.0   \n",
       "3               42.00          3.5       210.0      114.6   71.4   196.6   \n",
       "4               23.99          1.8       150.0      102.6   68.2   178.0   \n",
       "\n",
       "   Curb_weight  Fuel_capacity  Fuel_efficiency Latest_Launch  \\\n",
       "0        2.639           13.2             28.0      2/2/2012   \n",
       "1        3.517           17.2             25.0      6/3/2011   \n",
       "2        3.470           17.2             26.0      1/4/2012   \n",
       "3        3.850           18.0             22.0     3/10/2011   \n",
       "4        2.998           16.4             27.0     10/8/2011   \n",
       "\n",
       "   Power_perf_factor  \n",
       "0          58.280150  \n",
       "1          91.370778  \n",
       "2           0.000000  \n",
       "3          91.389779  \n",
       "4          62.777639  "
      ]
     },
     "execution_count": 32,
     "metadata": {},
     "output_type": "execute_result"
    }
   ],
   "source": [
    "# Заполнение всех пропущенных значений нулями\n",
    "# В данном случае это некорректно, так как нулями заполняются в том числе категориальные колонки\n",
    "data_new_3 = data.fillna(0)\n",
    "data_new_3.head()"
   ]
  },
  {
   "cell_type": "code",
   "execution_count": 19,
   "id": "3ebef375-9245-4810-b05d-401d9afb31d3",
   "metadata": {
    "tags": []
   },
   "outputs": [
    {
     "name": "stdout",
     "output_type": "stream",
     "text": [
      "Колонка __year_resale_value. Тип данных float64. Количество пустых значений 36, 22.93%.\n",
      "Колонка Price_in_thousands. Тип данных float64. Количество пустых значений 2, 1.27%.\n",
      "Колонка Engine_size. Тип данных float64. Количество пустых значений 1, 0.64%.\n",
      "Колонка Horsepower. Тип данных float64. Количество пустых значений 1, 0.64%.\n",
      "Колонка Wheelbase. Тип данных float64. Количество пустых значений 1, 0.64%.\n",
      "Колонка Width. Тип данных float64. Количество пустых значений 1, 0.64%.\n",
      "Колонка Length. Тип данных float64. Количество пустых значений 1, 0.64%.\n",
      "Колонка Curb_weight. Тип данных float64. Количество пустых значений 2, 1.27%.\n",
      "Колонка Fuel_capacity. Тип данных float64. Количество пустых значений 1, 0.64%.\n",
      "Колонка Fuel_efficiency. Тип данных float64. Количество пустых значений 3, 1.91%.\n",
      "Колонка Power_perf_factor. Тип данных float64. Количество пустых значений 2, 1.27%.\n"
     ]
    }
   ],
   "source": [
    "# Выберем числовые колонки с пропущенными значениями\n",
    "# Цикл по колонкам датасета\n",
    "num_cols = []\n",
    "for col in data.columns:\n",
    "    # Количество пустых значений \n",
    "    temp_null_count = data[data[col].isnull()].shape[0]\n",
    "    dt = str(data[col].dtype)\n",
    "    if temp_null_count>0 and (dt=='float64' or dt=='int64'):\n",
    "        num_cols.append(col)\n",
    "        temp_perc = round((temp_null_count / total_count) * 100.0, 2)\n",
    "        print('Колонка {}. Тип данных {}. Количество пустых значений {}, {}%.'.format(col, dt, temp_null_count, temp_perc))"
   ]
  },
  {
   "cell_type": "code",
   "execution_count": 20,
   "id": "ffbdd113-b733-47e7-b5bb-20967d9e47d9",
   "metadata": {
    "tags": []
   },
   "outputs": [
    {
     "data": {
      "text/html": [
       "<div>\n",
       "<style scoped>\n",
       "    .dataframe tbody tr th:only-of-type {\n",
       "        vertical-align: middle;\n",
       "    }\n",
       "\n",
       "    .dataframe tbody tr th {\n",
       "        vertical-align: top;\n",
       "    }\n",
       "\n",
       "    .dataframe thead th {\n",
       "        text-align: right;\n",
       "    }\n",
       "</style>\n",
       "<table border=\"1\" class=\"dataframe\">\n",
       "  <thead>\n",
       "    <tr style=\"text-align: right;\">\n",
       "      <th></th>\n",
       "      <th>__year_resale_value</th>\n",
       "      <th>Price_in_thousands</th>\n",
       "      <th>Engine_size</th>\n",
       "      <th>Horsepower</th>\n",
       "      <th>Wheelbase</th>\n",
       "      <th>Width</th>\n",
       "      <th>Length</th>\n",
       "      <th>Curb_weight</th>\n",
       "      <th>Fuel_capacity</th>\n",
       "      <th>Fuel_efficiency</th>\n",
       "      <th>Power_perf_factor</th>\n",
       "    </tr>\n",
       "  </thead>\n",
       "  <tbody>\n",
       "    <tr>\n",
       "      <th>0</th>\n",
       "      <td>16.360</td>\n",
       "      <td>21.50</td>\n",
       "      <td>1.8</td>\n",
       "      <td>140.0</td>\n",
       "      <td>101.2</td>\n",
       "      <td>67.3</td>\n",
       "      <td>172.4</td>\n",
       "      <td>2.639</td>\n",
       "      <td>13.2</td>\n",
       "      <td>28.0</td>\n",
       "      <td>58.280150</td>\n",
       "    </tr>\n",
       "    <tr>\n",
       "      <th>1</th>\n",
       "      <td>19.875</td>\n",
       "      <td>28.40</td>\n",
       "      <td>3.2</td>\n",
       "      <td>225.0</td>\n",
       "      <td>108.1</td>\n",
       "      <td>70.3</td>\n",
       "      <td>192.9</td>\n",
       "      <td>3.517</td>\n",
       "      <td>17.2</td>\n",
       "      <td>25.0</td>\n",
       "      <td>91.370778</td>\n",
       "    </tr>\n",
       "    <tr>\n",
       "      <th>2</th>\n",
       "      <td>18.225</td>\n",
       "      <td>NaN</td>\n",
       "      <td>3.2</td>\n",
       "      <td>225.0</td>\n",
       "      <td>106.9</td>\n",
       "      <td>70.6</td>\n",
       "      <td>192.0</td>\n",
       "      <td>3.470</td>\n",
       "      <td>17.2</td>\n",
       "      <td>26.0</td>\n",
       "      <td>NaN</td>\n",
       "    </tr>\n",
       "    <tr>\n",
       "      <th>3</th>\n",
       "      <td>29.725</td>\n",
       "      <td>42.00</td>\n",
       "      <td>3.5</td>\n",
       "      <td>210.0</td>\n",
       "      <td>114.6</td>\n",
       "      <td>71.4</td>\n",
       "      <td>196.6</td>\n",
       "      <td>3.850</td>\n",
       "      <td>18.0</td>\n",
       "      <td>22.0</td>\n",
       "      <td>91.389779</td>\n",
       "    </tr>\n",
       "    <tr>\n",
       "      <th>4</th>\n",
       "      <td>22.255</td>\n",
       "      <td>23.99</td>\n",
       "      <td>1.8</td>\n",
       "      <td>150.0</td>\n",
       "      <td>102.6</td>\n",
       "      <td>68.2</td>\n",
       "      <td>178.0</td>\n",
       "      <td>2.998</td>\n",
       "      <td>16.4</td>\n",
       "      <td>27.0</td>\n",
       "      <td>62.777639</td>\n",
       "    </tr>\n",
       "    <tr>\n",
       "      <th>...</th>\n",
       "      <td>...</td>\n",
       "      <td>...</td>\n",
       "      <td>...</td>\n",
       "      <td>...</td>\n",
       "      <td>...</td>\n",
       "      <td>...</td>\n",
       "      <td>...</td>\n",
       "      <td>...</td>\n",
       "      <td>...</td>\n",
       "      <td>...</td>\n",
       "      <td>...</td>\n",
       "    </tr>\n",
       "    <tr>\n",
       "      <th>152</th>\n",
       "      <td>NaN</td>\n",
       "      <td>24.40</td>\n",
       "      <td>1.9</td>\n",
       "      <td>160.0</td>\n",
       "      <td>100.5</td>\n",
       "      <td>67.6</td>\n",
       "      <td>176.6</td>\n",
       "      <td>3.042</td>\n",
       "      <td>15.8</td>\n",
       "      <td>25.0</td>\n",
       "      <td>66.498812</td>\n",
       "    </tr>\n",
       "    <tr>\n",
       "      <th>153</th>\n",
       "      <td>NaN</td>\n",
       "      <td>27.50</td>\n",
       "      <td>2.4</td>\n",
       "      <td>168.0</td>\n",
       "      <td>104.9</td>\n",
       "      <td>69.3</td>\n",
       "      <td>185.9</td>\n",
       "      <td>3.208</td>\n",
       "      <td>17.9</td>\n",
       "      <td>25.0</td>\n",
       "      <td>70.654495</td>\n",
       "    </tr>\n",
       "    <tr>\n",
       "      <th>154</th>\n",
       "      <td>NaN</td>\n",
       "      <td>28.80</td>\n",
       "      <td>2.4</td>\n",
       "      <td>168.0</td>\n",
       "      <td>104.9</td>\n",
       "      <td>69.3</td>\n",
       "      <td>186.2</td>\n",
       "      <td>3.259</td>\n",
       "      <td>17.9</td>\n",
       "      <td>25.0</td>\n",
       "      <td>71.155978</td>\n",
       "    </tr>\n",
       "    <tr>\n",
       "      <th>155</th>\n",
       "      <td>NaN</td>\n",
       "      <td>45.50</td>\n",
       "      <td>2.3</td>\n",
       "      <td>236.0</td>\n",
       "      <td>104.9</td>\n",
       "      <td>71.5</td>\n",
       "      <td>185.7</td>\n",
       "      <td>3.601</td>\n",
       "      <td>18.5</td>\n",
       "      <td>23.0</td>\n",
       "      <td>101.623357</td>\n",
       "    </tr>\n",
       "    <tr>\n",
       "      <th>156</th>\n",
       "      <td>NaN</td>\n",
       "      <td>36.00</td>\n",
       "      <td>2.9</td>\n",
       "      <td>201.0</td>\n",
       "      <td>109.9</td>\n",
       "      <td>72.1</td>\n",
       "      <td>189.8</td>\n",
       "      <td>3.600</td>\n",
       "      <td>21.1</td>\n",
       "      <td>24.0</td>\n",
       "      <td>85.735655</td>\n",
       "    </tr>\n",
       "  </tbody>\n",
       "</table>\n",
       "<p>157 rows × 11 columns</p>\n",
       "</div>"
      ],
      "text/plain": [
       "     __year_resale_value  Price_in_thousands  Engine_size  Horsepower  \\\n",
       "0                 16.360               21.50          1.8       140.0   \n",
       "1                 19.875               28.40          3.2       225.0   \n",
       "2                 18.225                 NaN          3.2       225.0   \n",
       "3                 29.725               42.00          3.5       210.0   \n",
       "4                 22.255               23.99          1.8       150.0   \n",
       "..                   ...                 ...          ...         ...   \n",
       "152                  NaN               24.40          1.9       160.0   \n",
       "153                  NaN               27.50          2.4       168.0   \n",
       "154                  NaN               28.80          2.4       168.0   \n",
       "155                  NaN               45.50          2.3       236.0   \n",
       "156                  NaN               36.00          2.9       201.0   \n",
       "\n",
       "     Wheelbase  Width  Length  Curb_weight  Fuel_capacity  Fuel_efficiency  \\\n",
       "0        101.2   67.3   172.4        2.639           13.2             28.0   \n",
       "1        108.1   70.3   192.9        3.517           17.2             25.0   \n",
       "2        106.9   70.6   192.0        3.470           17.2             26.0   \n",
       "3        114.6   71.4   196.6        3.850           18.0             22.0   \n",
       "4        102.6   68.2   178.0        2.998           16.4             27.0   \n",
       "..         ...    ...     ...          ...            ...              ...   \n",
       "152      100.5   67.6   176.6        3.042           15.8             25.0   \n",
       "153      104.9   69.3   185.9        3.208           17.9             25.0   \n",
       "154      104.9   69.3   186.2        3.259           17.9             25.0   \n",
       "155      104.9   71.5   185.7        3.601           18.5             23.0   \n",
       "156      109.9   72.1   189.8        3.600           21.1             24.0   \n",
       "\n",
       "     Power_perf_factor  \n",
       "0            58.280150  \n",
       "1            91.370778  \n",
       "2                  NaN  \n",
       "3            91.389779  \n",
       "4            62.777639  \n",
       "..                 ...  \n",
       "152          66.498812  \n",
       "153          70.654495  \n",
       "154          71.155978  \n",
       "155         101.623357  \n",
       "156          85.735655  \n",
       "\n",
       "[157 rows x 11 columns]"
      ]
     },
     "execution_count": 20,
     "metadata": {},
     "output_type": "execute_result"
    }
   ],
   "source": [
    "data_num = data[num_cols]\n",
    "data_num"
   ]
  },
  {
   "cell_type": "code",
   "execution_count": 21,
   "id": "fefc552c-09de-4651-b245-1f842f359ca5",
   "metadata": {
    "tags": []
   },
   "outputs": [
    {
     "data": {
      "image/png": "[encoded data removed]",
      "text/plain": [
       "<Figure size 640x480 with 1 Axes>"
      ]
     },
     "metadata": {},
     "output_type": "display_data"
    },
    {
     "data": {
      "image/png": "[encoded data removed]",
      "text/plain": [
       "<Figure size 640x480 with 1 Axes>"
      ]
     },
     "metadata": {},
     "output_type": "display_data"
    },
    {
     "data": {
      "image/png": "[encoded data removed]",
      "text/plain": [
       "<Figure size 640x480 with 1 Axes>"
      ]
     },
     "metadata": {},
     "output_type": "display_data"
    },
    {
     "data": {
      "image/png": "[encoded data removed]",
      "text/plain": [
       "<Figure size 640x480 with 1 Axes>"
      ]
     },
     "metadata": {},
     "output_type": "display_data"
    },
    {
     "data": {
      "image/png": "[encoded data removed]",
      "text/plain": [
       "<Figure size 640x480 with 1 Axes>"
      ]
     },
     "metadata": {},
     "output_type": "display_data"
    },
    {
     "data": {
      "image/png": "[encoded data removed]",
      "text/plain": [
       "<Figure size 640x480 with 1 Axes>"
      ]
     },
     "metadata": {},
     "output_type": "display_data"
    },
    {
     "data": {
      "image/png": "[encoded data removed]",
      "text/plain": [
       "<Figure size 640x480 with 1 Axes>"
      ]
     },
     "metadata": {},
     "output_type": "display_data"
    },
    {
     "data": {
      "image/png": "[encoded data removed]",
      "text/plain": [
       "<Figure size 640x480 with 1 Axes>"
      ]
     },
     "metadata": {},
     "output_type": "display_data"
    },
    {
     "data": {
      "image/png": "[encoded data removed]",
      "text/plain": [
       "<Figure size 640x480 with 1 Axes>"
      ]
     },
     "metadata": {},
     "output_type": "display_data"
    },
    {
     "data": {
      "image/png": "[encoded data removed]",
      "text/plain": [
       "<Figure size 640x480 with 1 Axes>"
      ]
     },
     "metadata": {},
     "output_type": "display_data"
    },
    {
     "data": {
      "image/png": "[encoded data removed]",
      "text/plain": [
       "<Figure size 640x480 with 1 Axes>"
      ]
     },
     "metadata": {},
     "output_type": "display_data"
    }
   ],
   "source": [
    "# Гистограмма по признакам\n",
    "for col in data_num:\n",
    "    plt.hist(data[col], 50)\n",
    "    plt.xlabel(col)\n",
    "    plt.show()"
   ]
  },
  {
   "cell_type": "code",
   "execution_count": 24,
   "id": "6ad70c94-a398-4b78-b960-11eff239fbcd",
   "metadata": {
    "tags": []
   },
   "outputs": [
    {
     "data": {
      "text/html": [
       "<div>\n",
       "<style scoped>\n",
       "    .dataframe tbody tr th:only-of-type {\n",
       "        vertical-align: middle;\n",
       "    }\n",
       "\n",
       "    .dataframe tbody tr th {\n",
       "        vertical-align: top;\n",
       "    }\n",
       "\n",
       "    .dataframe thead th {\n",
       "        text-align: right;\n",
       "    }\n",
       "</style>\n",
       "<table border=\"1\" class=\"dataframe\">\n",
       "  <thead>\n",
       "    <tr style=\"text-align: right;\">\n",
       "      <th></th>\n",
       "      <th>__year_resale_value</th>\n",
       "    </tr>\n",
       "  </thead>\n",
       "  <tbody>\n",
       "    <tr>\n",
       "      <th>0</th>\n",
       "      <td>16.360</td>\n",
       "    </tr>\n",
       "    <tr>\n",
       "      <th>1</th>\n",
       "      <td>19.875</td>\n",
       "    </tr>\n",
       "    <tr>\n",
       "      <th>2</th>\n",
       "      <td>18.225</td>\n",
       "    </tr>\n",
       "    <tr>\n",
       "      <th>3</th>\n",
       "      <td>29.725</td>\n",
       "    </tr>\n",
       "    <tr>\n",
       "      <th>4</th>\n",
       "      <td>22.255</td>\n",
       "    </tr>\n",
       "  </tbody>\n",
       "</table>\n",
       "</div>"
      ],
      "text/plain": [
       "   __year_resale_value\n",
       "0               16.360\n",
       "1               19.875\n",
       "2               18.225\n",
       "3               29.725\n",
       "4               22.255"
      ]
     },
     "execution_count": 24,
     "metadata": {},
     "output_type": "execute_result"
    }
   ],
   "source": [
    "data_num_ResaleYear = data_num[['__year_resale_value']]\n",
    "data_num_ResaleYear.head()"
   ]
  },
  {
   "cell_type": "code",
   "execution_count": 25,
   "id": "d9cf9e1b-33e1-4e87-ae27-b3b35eb4b511",
   "metadata": {
    "tags": []
   },
   "outputs": [],
   "source": [
    "from sklearn.impute import SimpleImputer\n",
    "from sklearn.impute import MissingIndicator"
   ]
  },
  {
   "cell_type": "code",
   "execution_count": 26,
   "id": "e78fb90d-c492-47d8-b656-85cc015927c7",
   "metadata": {
    "tags": []
   },
   "outputs": [
    {
     "data": {
      "text/plain": [
       "array([[False],\n",
       "       [False],\n",
       "       [False],\n",
       "       [False],\n",
       "       [False],\n",
       "       [False],\n",
       "       [False],\n",
       "       [ True],\n",
       "       [False],\n",
       "       [False],\n",
       "       [False],\n",
       "       [False],\n",
       "       [False],\n",
       "       [False],\n",
       "       [False],\n",
       "       [False],\n",
       "       [False],\n",
       "       [False],\n",
       "       [ True],\n",
       "       [False],\n",
       "       [False],\n",
       "       [False],\n",
       "       [False],\n",
       "       [False],\n",
       "       [False],\n",
       "       [False],\n",
       "       [False],\n",
       "       [ True],\n",
       "       [False],\n",
       "       [False],\n",
       "       [False],\n",
       "       [False],\n",
       "       [False],\n",
       "       [False],\n",
       "       [ True],\n",
       "       [False],\n",
       "       [False],\n",
       "       [False],\n",
       "       [False],\n",
       "       [False],\n",
       "       [False],\n",
       "       [False],\n",
       "       [False],\n",
       "       [False],\n",
       "       [ True],\n",
       "       [False],\n",
       "       [False],\n",
       "       [False],\n",
       "       [False],\n",
       "       [False],\n",
       "       [ True],\n",
       "       [False],\n",
       "       [False],\n",
       "       [False],\n",
       "       [False],\n",
       "       [False],\n",
       "       [False],\n",
       "       [False],\n",
       "       [False],\n",
       "       [False],\n",
       "       [False],\n",
       "       [False],\n",
       "       [False],\n",
       "       [False],\n",
       "       [False],\n",
       "       [False],\n",
       "       [ True],\n",
       "       [False],\n",
       "       [False],\n",
       "       [False],\n",
       "       [False],\n",
       "       [False],\n",
       "       [ True],\n",
       "       [False],\n",
       "       [ True],\n",
       "       [ True],\n",
       "       [False],\n",
       "       [False],\n",
       "       [ True],\n",
       "       [False],\n",
       "       [False],\n",
       "       [False],\n",
       "       [False],\n",
       "       [False],\n",
       "       [False],\n",
       "       [False],\n",
       "       [False],\n",
       "       [False],\n",
       "       [False],\n",
       "       [False],\n",
       "       [False],\n",
       "       [False],\n",
       "       [False],\n",
       "       [False],\n",
       "       [False],\n",
       "       [False],\n",
       "       [ True],\n",
       "       [ True],\n",
       "       [ True],\n",
       "       [ True],\n",
       "       [ True],\n",
       "       [False],\n",
       "       [False],\n",
       "       [False],\n",
       "       [False],\n",
       "       [False],\n",
       "       [ True],\n",
       "       [ True],\n",
       "       [False],\n",
       "       [ True],\n",
       "       [ True],\n",
       "       [False],\n",
       "       [False],\n",
       "       [False],\n",
       "       [False],\n",
       "       [False],\n",
       "       [False],\n",
       "       [ True],\n",
       "       [False],\n",
       "       [False],\n",
       "       [False],\n",
       "       [False],\n",
       "       [False],\n",
       "       [ True],\n",
       "       [False],\n",
       "       [False],\n",
       "       [False],\n",
       "       [ True],\n",
       "       [ True],\n",
       "       [False],\n",
       "       [False],\n",
       "       [False],\n",
       "       [ True],\n",
       "       [ True],\n",
       "       [ True],\n",
       "       [ True],\n",
       "       [False],\n",
       "       [False],\n",
       "       [False],\n",
       "       [False],\n",
       "       [False],\n",
       "       [ True],\n",
       "       [False],\n",
       "       [False],\n",
       "       [False],\n",
       "       [False],\n",
       "       [False],\n",
       "       [False],\n",
       "       [False],\n",
       "       [False],\n",
       "       [ True],\n",
       "       [ True],\n",
       "       [ True],\n",
       "       [ True],\n",
       "       [ True],\n",
       "       [ True],\n",
       "       [ True]])"
      ]
     },
     "execution_count": 26,
     "metadata": {},
     "output_type": "execute_result"
    }
   ],
   "source": [
    "# Фильтр для проверки заполнения пустых значений\n",
    "indicator = MissingIndicator()\n",
    "mask_missing_values_only = indicator.fit_transform(data_num_ResaleYear)\n",
    "mask_missing_values_only"
   ]
  },
  {
   "cell_type": "code",
   "execution_count": 27,
   "id": "66576cf2-76e4-4adc-93be-6db96488809f",
   "metadata": {
    "tags": []
   },
   "outputs": [],
   "source": [
    "strategies=['mean', 'median', 'most_frequent']"
   ]
  },
  {
   "cell_type": "code",
   "execution_count": 28,
   "id": "3fbcc4d9-be30-40c4-9b88-0d90907fc88b",
   "metadata": {
    "tags": []
   },
   "outputs": [],
   "source": [
    "def test_num_impute(strategy_param):\n",
    "    imp_num = SimpleImputer(strategy=strategy_param)\n",
    "    data_num_imp = imp_num.fit_transform(data_num_ResaleYear)\n",
    "    return data_num_imp[mask_missing_values_only]"
   ]
  },
  {
   "cell_type": "code",
   "execution_count": 29,
   "id": "7d25da4f-520a-42e0-ad41-c7fc1e885c82",
   "metadata": {
    "tags": []
   },
   "outputs": [
    {
     "data": {
      "text/plain": [
       "('mean',\n",
       " array([18.07297521, 18.07297521, 18.07297521, 18.07297521, 18.07297521,\n",
       "        18.07297521, 18.07297521, 18.07297521, 18.07297521, 18.07297521,\n",
       "        18.07297521, 18.07297521, 18.07297521, 18.07297521, 18.07297521,\n",
       "        18.07297521, 18.07297521, 18.07297521, 18.07297521, 18.07297521,\n",
       "        18.07297521, 18.07297521, 18.07297521, 18.07297521, 18.07297521,\n",
       "        18.07297521, 18.07297521, 18.07297521, 18.07297521, 18.07297521,\n",
       "        18.07297521, 18.07297521, 18.07297521, 18.07297521, 18.07297521,\n",
       "        18.07297521]))"
      ]
     },
     "execution_count": 29,
     "metadata": {},
     "output_type": "execute_result"
    }
   ],
   "source": [
    "strategies[0], test_num_impute(strategies[0])"
   ]
  },
  {
   "cell_type": "code",
   "execution_count": 30,
   "id": "90ce0295-a1bf-4ef5-84e0-fe727fe2a84c",
   "metadata": {
    "tags": []
   },
   "outputs": [
    {
     "data": {
      "text/plain": [
       "('median',\n",
       " array([14.18, 14.18, 14.18, 14.18, 14.18, 14.18, 14.18, 14.18, 14.18,\n",
       "        14.18, 14.18, 14.18, 14.18, 14.18, 14.18, 14.18, 14.18, 14.18,\n",
       "        14.18, 14.18, 14.18, 14.18, 14.18, 14.18, 14.18, 14.18, 14.18,\n",
       "        14.18, 14.18, 14.18, 14.18, 14.18, 14.18, 14.18, 14.18, 14.18]))"
      ]
     },
     "execution_count": 30,
     "metadata": {},
     "output_type": "execute_result"
    }
   ],
   "source": [
    "strategies[1], test_num_impute(strategies[1])"
   ]
  },
  {
   "cell_type": "code",
   "execution_count": 31,
   "id": "85d43476-ce7b-4599-8498-b15b054c3a65",
   "metadata": {
    "tags": []
   },
   "outputs": [
    {
     "data": {
      "text/plain": [
       "('most_frequent',\n",
       " array([7.75, 7.75, 7.75, 7.75, 7.75, 7.75, 7.75, 7.75, 7.75, 7.75, 7.75,\n",
       "        7.75, 7.75, 7.75, 7.75, 7.75, 7.75, 7.75, 7.75, 7.75, 7.75, 7.75,\n",
       "        7.75, 7.75, 7.75, 7.75, 7.75, 7.75, 7.75, 7.75, 7.75, 7.75, 7.75,\n",
       "        7.75, 7.75, 7.75]))"
      ]
     },
     "execution_count": 31,
     "metadata": {},
     "output_type": "execute_result"
    }
   ],
   "source": [
    "strategies[2], test_num_impute(strategies[2])"
   ]
  },
  {
   "cell_type": "code",
   "execution_count": 1,
   "id": "dcf1426d-1449-428d-912a-0636f8f58257",
   "metadata": {
    "tags": []
   },
   "outputs": [],
   "source": [
    "# Более сложная функция, которая позволяет задавать колонку и вид импьютации\n",
    "def test_num_impute_col(dataset, column, strategy_param):\n",
    "    temp_data = dataset[[column]]\n",
    "    \n",
    "    indicator = MissingIndicator()\n",
    "    mask_missing_values_only = indicator.fit_transform(temp_data)\n",
    "    \n",
    "    imp_num = SimpleImputer(strategy=strategy_param)\n",
    "    data_num_imp = imp_num.fit_transform(temp_data)\n",
    "    \n",
    "    filled_data = data_num_imp[mask_missing_values_only]\n",
    "    \n",
    "    return column, strategy_param, filled_data.size, filled_data[0], filled_data[filled_data.size-1]"
   ]
  },
  {
   "cell_type": "code",
   "execution_count": 34,
   "id": "045e3963-bafe-40e7-b26d-2a90675c33ac",
   "metadata": {
    "tags": []
   },
   "outputs": [
    {
     "data": {
      "text/html": [
       "<div>\n",
       "<style scoped>\n",
       "    .dataframe tbody tr th:only-of-type {\n",
       "        vertical-align: middle;\n",
       "    }\n",
       "\n",
       "    .dataframe tbody tr th {\n",
       "        vertical-align: top;\n",
       "    }\n",
       "\n",
       "    .dataframe thead th {\n",
       "        text-align: right;\n",
       "    }\n",
       "</style>\n",
       "<table border=\"1\" class=\"dataframe\">\n",
       "  <thead>\n",
       "    <tr style=\"text-align: right;\">\n",
       "      <th></th>\n",
       "      <th>__year_resale_value</th>\n",
       "    </tr>\n",
       "  </thead>\n",
       "  <tbody>\n",
       "    <tr>\n",
       "      <th>count</th>\n",
       "      <td>121.000000</td>\n",
       "    </tr>\n",
       "    <tr>\n",
       "      <th>mean</th>\n",
       "      <td>18.072975</td>\n",
       "    </tr>\n",
       "    <tr>\n",
       "      <th>std</th>\n",
       "      <td>11.453384</td>\n",
       "    </tr>\n",
       "    <tr>\n",
       "      <th>min</th>\n",
       "      <td>5.160000</td>\n",
       "    </tr>\n",
       "    <tr>\n",
       "      <th>25%</th>\n",
       "      <td>11.260000</td>\n",
       "    </tr>\n",
       "    <tr>\n",
       "      <th>50%</th>\n",
       "      <td>14.180000</td>\n",
       "    </tr>\n",
       "    <tr>\n",
       "      <th>75%</th>\n",
       "      <td>19.875000</td>\n",
       "    </tr>\n",
       "    <tr>\n",
       "      <th>max</th>\n",
       "      <td>67.550000</td>\n",
       "    </tr>\n",
       "  </tbody>\n",
       "</table>\n",
       "</div>"
      ],
      "text/plain": [
       "       __year_resale_value\n",
       "count           121.000000\n",
       "mean             18.072975\n",
       "std              11.453384\n",
       "min               5.160000\n",
       "25%              11.260000\n",
       "50%              14.180000\n",
       "75%              19.875000\n",
       "max              67.550000"
      ]
     },
     "execution_count": 34,
     "metadata": {},
     "output_type": "execute_result"
    }
   ],
   "source": [
    "data[['__year_resale_value']].describe()"
   ]
  },
  {
   "cell_type": "code",
   "execution_count": 35,
   "id": "3c65f902-6caa-4ea1-aed4-9a81028e2c90",
   "metadata": {
    "tags": []
   },
   "outputs": [
    {
     "data": {
      "text/plain": [
       "('__year_resale_value', 'mean', 36, 18.07297520661157, 18.07297520661157)"
      ]
     },
     "execution_count": 35,
     "metadata": {},
     "output_type": "execute_result"
    }
   ],
   "source": [
    "test_num_impute_col(data, '__year_resale_value', strategies[0])"
   ]
  },
  {
   "cell_type": "code",
   "execution_count": 36,
   "id": "f4c8cab7-e88d-4440-bfb0-402d574d2d7d",
   "metadata": {
    "tags": []
   },
   "outputs": [
    {
     "name": "stdout",
     "output_type": "stream",
     "text": [
      "Колонка Vehicle_type. Тип данных object. Количество пустых значений 2, 1.27%.\n"
     ]
    }
   ],
   "source": [
    "# Выберем категориальные колонки с пропущенными значениями\n",
    "# Цикл по колонкам датасета\n",
    "cat_cols = []\n",
    "for col in data.columns:\n",
    "    # Количество пустых значений \n",
    "    temp_null_count = data[data[col].isnull()].shape[0]\n",
    "    dt = str(data[col].dtype)\n",
    "    if temp_null_count>0 and (dt=='object'):\n",
    "        cat_cols.append(col)\n",
    "        temp_perc = round((temp_null_count / total_count) * 100.0, 2)\n",
    "        print('Колонка {}. Тип данных {}. Количество пустых значений {}, {}%.'.format(col, dt, temp_null_count, temp_perc))"
   ]
  },
  {
   "cell_type": "code",
   "execution_count": 37,
   "id": "6dab591b-1992-4f1b-876b-d5f9510d9a3a",
   "metadata": {
    "tags": []
   },
   "outputs": [
    {
     "data": {
      "text/html": [
       "<div>\n",
       "<style scoped>\n",
       "    .dataframe tbody tr th:only-of-type {\n",
       "        vertical-align: middle;\n",
       "    }\n",
       "\n",
       "    .dataframe tbody tr th {\n",
       "        vertical-align: top;\n",
       "    }\n",
       "\n",
       "    .dataframe thead th {\n",
       "        text-align: right;\n",
       "    }\n",
       "</style>\n",
       "<table border=\"1\" class=\"dataframe\">\n",
       "  <thead>\n",
       "    <tr style=\"text-align: right;\">\n",
       "      <th></th>\n",
       "      <th>Vehicle_type</th>\n",
       "    </tr>\n",
       "  </thead>\n",
       "  <tbody>\n",
       "    <tr>\n",
       "      <th>0</th>\n",
       "      <td>NaN</td>\n",
       "    </tr>\n",
       "    <tr>\n",
       "      <th>1</th>\n",
       "      <td>Passenger</td>\n",
       "    </tr>\n",
       "    <tr>\n",
       "      <th>2</th>\n",
       "      <td>Passenger</td>\n",
       "    </tr>\n",
       "    <tr>\n",
       "      <th>3</th>\n",
       "      <td>Passenger</td>\n",
       "    </tr>\n",
       "    <tr>\n",
       "      <th>4</th>\n",
       "      <td>Passenger</td>\n",
       "    </tr>\n",
       "  </tbody>\n",
       "</table>\n",
       "</div>"
      ],
      "text/plain": [
       "  Vehicle_type\n",
       "0          NaN\n",
       "1    Passenger\n",
       "2    Passenger\n",
       "3    Passenger\n",
       "4    Passenger"
      ]
     },
     "execution_count": 37,
     "metadata": {},
     "output_type": "execute_result"
    }
   ],
   "source": [
    "cat_temp_data = data[['Vehicle_type']]\n",
    "cat_temp_data.head()"
   ]
  },
  {
   "cell_type": "code",
   "execution_count": 39,
   "id": "2b78f8cf-6737-4e73-b57a-02c82f7b62aa",
   "metadata": {
    "tags": []
   },
   "outputs": [
    {
     "data": {
      "text/plain": [
       "array([nan, 'Passenger', 'Car'], dtype=object)"
      ]
     },
     "execution_count": 39,
     "metadata": {},
     "output_type": "execute_result"
    }
   ],
   "source": [
    "cat_temp_data['Vehicle_type'].unique()"
   ]
  },
  {
   "cell_type": "code",
   "execution_count": 40,
   "id": "46e3857c-bd36-4a47-8b05-461666fde01c",
   "metadata": {
    "tags": []
   },
   "outputs": [
    {
     "data": {
      "text/plain": [
       "(2, 1)"
      ]
     },
     "execution_count": 40,
     "metadata": {},
     "output_type": "execute_result"
    }
   ],
   "source": [
    "cat_temp_data[cat_temp_data['Vehicle_type'].isnull()].shape"
   ]
  },
  {
   "cell_type": "code",
   "execution_count": 41,
   "id": "0f1b1934-ce98-4524-a290-296a19ac27f1",
   "metadata": {
    "tags": []
   },
   "outputs": [
    {
     "data": {
      "text/plain": [
       "array([['Passenger'],\n",
       "       ['Passenger'],\n",
       "       ['Passenger'],\n",
       "       ['Passenger'],\n",
       "       ['Passenger'],\n",
       "       ['Passenger'],\n",
       "       ['Passenger'],\n",
       "       ['Passenger'],\n",
       "       ['Passenger'],\n",
       "       ['Passenger'],\n",
       "       ['Passenger'],\n",
       "       ['Passenger'],\n",
       "       ['Passenger'],\n",
       "       ['Passenger'],\n",
       "       ['Passenger'],\n",
       "       ['Passenger'],\n",
       "       ['Passenger'],\n",
       "       ['Passenger'],\n",
       "       ['Car'],\n",
       "       ['Passenger'],\n",
       "       ['Passenger'],\n",
       "       ['Passenger'],\n",
       "       ['Passenger'],\n",
       "       ['Passenger'],\n",
       "       ['Passenger'],\n",
       "       ['Passenger'],\n",
       "       ['Passenger'],\n",
       "       ['Passenger'],\n",
       "       ['Passenger'],\n",
       "       ['Passenger'],\n",
       "       ['Passenger'],\n",
       "       ['Passenger'],\n",
       "       ['Passenger'],\n",
       "       ['Car'],\n",
       "       ['Passenger'],\n",
       "       ['Passenger'],\n",
       "       ['Passenger'],\n",
       "       ['Passenger'],\n",
       "       ['Passenger'],\n",
       "       ['Passenger'],\n",
       "       ['Car'],\n",
       "       ['Car'],\n",
       "       ['Car'],\n",
       "       ['Car'],\n",
       "       ['Car'],\n",
       "       ['Car'],\n",
       "       ['Passenger'],\n",
       "       ['Passenger'],\n",
       "       ['Passenger'],\n",
       "       ['Passenger'],\n",
       "       ['Passenger'],\n",
       "       ['Passenger'],\n",
       "       ['Car'],\n",
       "       ['Car'],\n",
       "       ['Car'],\n",
       "       ['Car'],\n",
       "       ['Car'],\n",
       "       ['Passenger'],\n",
       "       ['Passenger'],\n",
       "       ['Car'],\n",
       "       ['Car'],\n",
       "       ['Car'],\n",
       "       ['Passenger'],\n",
       "       ['Passenger'],\n",
       "       ['Passenger'],\n",
       "       ['Passenger'],\n",
       "       ['Passenger'],\n",
       "       ['Car'],\n",
       "       ['Car'],\n",
       "       ['Car'],\n",
       "       ['Passenger'],\n",
       "       ['Passenger'],\n",
       "       ['Passenger'],\n",
       "       ['Passenger'],\n",
       "       ['Car'],\n",
       "       ['Car'],\n",
       "       ['Passenger'],\n",
       "       ['Passenger'],\n",
       "       ['Car'],\n",
       "       ['Passenger'],\n",
       "       ['Passenger'],\n",
       "       ['Passenger'],\n",
       "       ['Passenger'],\n",
       "       ['Passenger'],\n",
       "       ['Car'],\n",
       "       ['Car'],\n",
       "       ['Passenger'],\n",
       "       ['Passenger'],\n",
       "       ['Passenger'],\n",
       "       ['Passenger'],\n",
       "       ['Car'],\n",
       "       ['Car'],\n",
       "       ['Passenger'],\n",
       "       ['Passenger'],\n",
       "       ['Passenger'],\n",
       "       ['Passenger'],\n",
       "       ['Passenger'],\n",
       "       ['Passenger'],\n",
       "       ['Passenger'],\n",
       "       ['Passenger'],\n",
       "       ['Car'],\n",
       "       ['Passenger'],\n",
       "       ['Passenger'],\n",
       "       ['Passenger'],\n",
       "       ['Car'],\n",
       "       ['Car'],\n",
       "       ['Car'],\n",
       "       ['Car'],\n",
       "       ['Passenger'],\n",
       "       ['Passenger'],\n",
       "       ['Passenger'],\n",
       "       ['Passenger'],\n",
       "       ['Car'],\n",
       "       ['Car'],\n",
       "       ['Passenger'],\n",
       "       ['Passenger'],\n",
       "       ['Car'],\n",
       "       ['Passenger'],\n",
       "       ['Passenger'],\n",
       "       ['Passenger'],\n",
       "       ['Passenger'],\n",
       "       ['Passenger'],\n",
       "       ['Passenger'],\n",
       "       ['Car'],\n",
       "       ['Passenger'],\n",
       "       ['Passenger'],\n",
       "       ['Passenger'],\n",
       "       ['Passenger'],\n",
       "       ['Passenger'],\n",
       "       ['Passenger'],\n",
       "       ['Passenger'],\n",
       "       ['Passenger'],\n",
       "       ['Passenger'],\n",
       "       ['Passenger'],\n",
       "       ['Passenger'],\n",
       "       ['Car'],\n",
       "       ['Passenger'],\n",
       "       ['Passenger'],\n",
       "       ['Passenger'],\n",
       "       ['Passenger'],\n",
       "       ['Car'],\n",
       "       ['Car'],\n",
       "       ['Car'],\n",
       "       ['Car'],\n",
       "       ['Car'],\n",
       "       ['Passenger'],\n",
       "       ['Passenger'],\n",
       "       ['Passenger'],\n",
       "       ['Passenger'],\n",
       "       ['Passenger'],\n",
       "       ['Passenger'],\n",
       "       ['Passenger'],\n",
       "       ['Passenger'],\n",
       "       ['Passenger'],\n",
       "       ['Passenger'],\n",
       "       ['Passenger'],\n",
       "       ['Passenger']], dtype=object)"
      ]
     },
     "execution_count": 41,
     "metadata": {},
     "output_type": "execute_result"
    }
   ],
   "source": [
    "# Импьютация наиболее частыми значениями\n",
    "imp2 = SimpleImputer(missing_values=np.nan, strategy='most_frequent')\n",
    "data_imp2 = imp2.fit_transform(cat_temp_data)\n",
    "data_imp2"
   ]
  },
  {
   "cell_type": "code",
   "execution_count": 42,
   "id": "8ae17f6d-520b-42a2-9dd2-56ca461157ee",
   "metadata": {
    "tags": []
   },
   "outputs": [
    {
     "data": {
      "text/plain": [
       "array(['Car', 'Passenger'], dtype=object)"
      ]
     },
     "execution_count": 42,
     "metadata": {},
     "output_type": "execute_result"
    }
   ],
   "source": [
    "np.unique(data_imp2)\n",
    "# Нет пустых значений "
   ]
  },
  {
   "cell_type": "code",
   "execution_count": 43,
   "id": "3bfec031-e188-4349-8657-71c5ca52cc05",
   "metadata": {
    "tags": []
   },
   "outputs": [
    {
     "data": {
      "text/plain": [
       "array([['NA'],\n",
       "       ['Passenger'],\n",
       "       ['Passenger'],\n",
       "       ['Passenger'],\n",
       "       ['Passenger'],\n",
       "       ['Passenger'],\n",
       "       ['Passenger'],\n",
       "       ['Passenger'],\n",
       "       ['Passenger'],\n",
       "       ['Passenger'],\n",
       "       ['Passenger'],\n",
       "       ['Passenger'],\n",
       "       ['Passenger'],\n",
       "       ['Passenger'],\n",
       "       ['Passenger'],\n",
       "       ['Passenger'],\n",
       "       ['Passenger'],\n",
       "       ['Passenger'],\n",
       "       ['Car'],\n",
       "       ['Passenger'],\n",
       "       ['Passenger'],\n",
       "       ['Passenger'],\n",
       "       ['Passenger'],\n",
       "       ['Passenger'],\n",
       "       ['Passenger'],\n",
       "       ['Passenger'],\n",
       "       ['Passenger'],\n",
       "       ['Passenger'],\n",
       "       ['Passenger'],\n",
       "       ['Passenger'],\n",
       "       ['Passenger'],\n",
       "       ['Passenger'],\n",
       "       ['Passenger'],\n",
       "       ['Car'],\n",
       "       ['Passenger'],\n",
       "       ['Passenger'],\n",
       "       ['Passenger'],\n",
       "       ['Passenger'],\n",
       "       ['Passenger'],\n",
       "       ['Passenger'],\n",
       "       ['Car'],\n",
       "       ['Car'],\n",
       "       ['Car'],\n",
       "       ['Car'],\n",
       "       ['Car'],\n",
       "       ['Car'],\n",
       "       ['Passenger'],\n",
       "       ['Passenger'],\n",
       "       ['Passenger'],\n",
       "       ['Passenger'],\n",
       "       ['Passenger'],\n",
       "       ['Passenger'],\n",
       "       ['Car'],\n",
       "       ['Car'],\n",
       "       ['Car'],\n",
       "       ['Car'],\n",
       "       ['Car'],\n",
       "       ['NA'],\n",
       "       ['Passenger'],\n",
       "       ['Car'],\n",
       "       ['Car'],\n",
       "       ['Car'],\n",
       "       ['Passenger'],\n",
       "       ['Passenger'],\n",
       "       ['Passenger'],\n",
       "       ['Passenger'],\n",
       "       ['Passenger'],\n",
       "       ['Car'],\n",
       "       ['Car'],\n",
       "       ['Car'],\n",
       "       ['Passenger'],\n",
       "       ['Passenger'],\n",
       "       ['Passenger'],\n",
       "       ['Passenger'],\n",
       "       ['Car'],\n",
       "       ['Car'],\n",
       "       ['Passenger'],\n",
       "       ['Passenger'],\n",
       "       ['Car'],\n",
       "       ['Passenger'],\n",
       "       ['Passenger'],\n",
       "       ['Passenger'],\n",
       "       ['Passenger'],\n",
       "       ['Passenger'],\n",
       "       ['Car'],\n",
       "       ['Car'],\n",
       "       ['Passenger'],\n",
       "       ['Passenger'],\n",
       "       ['Passenger'],\n",
       "       ['Passenger'],\n",
       "       ['Car'],\n",
       "       ['Car'],\n",
       "       ['Passenger'],\n",
       "       ['Passenger'],\n",
       "       ['Passenger'],\n",
       "       ['Passenger'],\n",
       "       ['Passenger'],\n",
       "       ['Passenger'],\n",
       "       ['Passenger'],\n",
       "       ['Passenger'],\n",
       "       ['Car'],\n",
       "       ['Passenger'],\n",
       "       ['Passenger'],\n",
       "       ['Passenger'],\n",
       "       ['Car'],\n",
       "       ['Car'],\n",
       "       ['Car'],\n",
       "       ['Car'],\n",
       "       ['Passenger'],\n",
       "       ['Passenger'],\n",
       "       ['Passenger'],\n",
       "       ['Passenger'],\n",
       "       ['Car'],\n",
       "       ['Car'],\n",
       "       ['Passenger'],\n",
       "       ['Passenger'],\n",
       "       ['Car'],\n",
       "       ['Passenger'],\n",
       "       ['Passenger'],\n",
       "       ['Passenger'],\n",
       "       ['Passenger'],\n",
       "       ['Passenger'],\n",
       "       ['Passenger'],\n",
       "       ['Car'],\n",
       "       ['Passenger'],\n",
       "       ['Passenger'],\n",
       "       ['Passenger'],\n",
       "       ['Passenger'],\n",
       "       ['Passenger'],\n",
       "       ['Passenger'],\n",
       "       ['Passenger'],\n",
       "       ['Passenger'],\n",
       "       ['Passenger'],\n",
       "       ['Passenger'],\n",
       "       ['Passenger'],\n",
       "       ['Car'],\n",
       "       ['Passenger'],\n",
       "       ['Passenger'],\n",
       "       ['Passenger'],\n",
       "       ['Passenger'],\n",
       "       ['Car'],\n",
       "       ['Car'],\n",
       "       ['Car'],\n",
       "       ['Car'],\n",
       "       ['Car'],\n",
       "       ['Passenger'],\n",
       "       ['Passenger'],\n",
       "       ['Passenger'],\n",
       "       ['Passenger'],\n",
       "       ['Passenger'],\n",
       "       ['Passenger'],\n",
       "       ['Passenger'],\n",
       "       ['Passenger'],\n",
       "       ['Passenger'],\n",
       "       ['Passenger'],\n",
       "       ['Passenger'],\n",
       "       ['Passenger']], dtype=object)"
      ]
     },
     "execution_count": 43,
     "metadata": {},
     "output_type": "execute_result"
    }
   ],
   "source": [
    "# Импьютация константой\n",
    "imp3 = SimpleImputer(missing_values=np.nan, strategy='constant', fill_value='NA')\n",
    "data_imp3 = imp3.fit_transform(cat_temp_data)\n",
    "data_imp3"
   ]
  },
  {
   "cell_type": "code",
   "execution_count": 44,
   "id": "0eed44d6-97a4-4751-88bb-8b7991be2b78",
   "metadata": {
    "tags": []
   },
   "outputs": [
    {
     "data": {
      "text/plain": [
       "array(['Car', 'NA', 'Passenger'], dtype=object)"
      ]
     },
     "execution_count": 44,
     "metadata": {},
     "output_type": "execute_result"
    }
   ],
   "source": [
    "np.unique(data_imp3)"
   ]
  },
  {
   "cell_type": "code",
   "execution_count": 46,
   "id": "743a8f4d-5505-4a36-bcec-e434a30127c9",
   "metadata": {
    "tags": []
   },
   "outputs": [
    {
     "data": {
      "text/plain": [
       "2"
      ]
     },
     "execution_count": 46,
     "metadata": {},
     "output_type": "execute_result"
    }
   ],
   "source": [
    "data_imp3[data_imp3=='NA'].size"
   ]
  },
  {
   "cell_type": "code",
   "execution_count": 47,
   "id": "5ac631b0-f773-4156-83f8-c9650caa4674",
   "metadata": {
    "tags": []
   },
   "outputs": [
    {
     "data": {
      "text/html": [
       "<div>\n",
       "<style scoped>\n",
       "    .dataframe tbody tr th:only-of-type {\n",
       "        vertical-align: middle;\n",
       "    }\n",
       "\n",
       "    .dataframe tbody tr th {\n",
       "        vertical-align: top;\n",
       "    }\n",
       "\n",
       "    .dataframe thead th {\n",
       "        text-align: right;\n",
       "    }\n",
       "</style>\n",
       "<table border=\"1\" class=\"dataframe\">\n",
       "  <thead>\n",
       "    <tr style=\"text-align: right;\">\n",
       "      <th></th>\n",
       "      <th>c1</th>\n",
       "    </tr>\n",
       "  </thead>\n",
       "  <tbody>\n",
       "    <tr>\n",
       "      <th>0</th>\n",
       "      <td>Passenger</td>\n",
       "    </tr>\n",
       "    <tr>\n",
       "      <th>1</th>\n",
       "      <td>Passenger</td>\n",
       "    </tr>\n",
       "    <tr>\n",
       "      <th>2</th>\n",
       "      <td>Passenger</td>\n",
       "    </tr>\n",
       "    <tr>\n",
       "      <th>3</th>\n",
       "      <td>Passenger</td>\n",
       "    </tr>\n",
       "    <tr>\n",
       "      <th>4</th>\n",
       "      <td>Passenger</td>\n",
       "    </tr>\n",
       "    <tr>\n",
       "      <th>...</th>\n",
       "      <td>...</td>\n",
       "    </tr>\n",
       "    <tr>\n",
       "      <th>152</th>\n",
       "      <td>Passenger</td>\n",
       "    </tr>\n",
       "    <tr>\n",
       "      <th>153</th>\n",
       "      <td>Passenger</td>\n",
       "    </tr>\n",
       "    <tr>\n",
       "      <th>154</th>\n",
       "      <td>Passenger</td>\n",
       "    </tr>\n",
       "    <tr>\n",
       "      <th>155</th>\n",
       "      <td>Passenger</td>\n",
       "    </tr>\n",
       "    <tr>\n",
       "      <th>156</th>\n",
       "      <td>Passenger</td>\n",
       "    </tr>\n",
       "  </tbody>\n",
       "</table>\n",
       "<p>157 rows × 1 columns</p>\n",
       "</div>"
      ],
      "text/plain": [
       "            c1\n",
       "0    Passenger\n",
       "1    Passenger\n",
       "2    Passenger\n",
       "3    Passenger\n",
       "4    Passenger\n",
       "..         ...\n",
       "152  Passenger\n",
       "153  Passenger\n",
       "154  Passenger\n",
       "155  Passenger\n",
       "156  Passenger\n",
       "\n",
       "[157 rows x 1 columns]"
      ]
     },
     "execution_count": 47,
     "metadata": {},
     "output_type": "execute_result"
    }
   ],
   "source": [
    "# Преобразование категориальных признаков в числовые\n",
    "cat_enc = pd.DataFrame({'c1':data_imp2.T[0]})\n",
    "cat_enc"
   ]
  },
  {
   "cell_type": "code",
   "execution_count": 48,
   "id": "00f62314-f8b1-4b83-add8-67a9421e13bc",
   "metadata": {
    "tags": []
   },
   "outputs": [],
   "source": [
    "from sklearn.preprocessing import LabelEncoder"
   ]
  },
  {
   "cell_type": "code",
   "execution_count": 49,
   "id": "22abe701-dcf4-452b-92a7-da06304e703f",
   "metadata": {
    "tags": []
   },
   "outputs": [
    {
     "data": {
      "text/plain": [
       "array(['Passenger', 'Car'], dtype=object)"
      ]
     },
     "execution_count": 49,
     "metadata": {},
     "output_type": "execute_result"
    }
   ],
   "source": [
    "cat_enc['c1'].unique()"
   ]
  },
  {
   "cell_type": "code",
   "execution_count": 50,
   "id": "b7f4248f-82de-4530-82c4-077703b37d08",
   "metadata": {
    "tags": []
   },
   "outputs": [],
   "source": [
    "le = LabelEncoder()\n",
    "cat_enc_le = le.fit_transform(cat_enc['c1'])"
   ]
  },
  {
   "cell_type": "code",
   "execution_count": 51,
   "id": "89973556-0430-4bf3-8493-0b1e98ab94ef",
   "metadata": {
    "tags": []
   },
   "outputs": [
    {
     "data": {
      "text/plain": [
       "array(['Car', 'Passenger'], dtype=object)"
      ]
     },
     "execution_count": 51,
     "metadata": {},
     "output_type": "execute_result"
    }
   ],
   "source": [
    "# Наименования категорий в соответствии с порядковыми номерами\n",
    "le.classes_"
   ]
  },
  {
   "cell_type": "code",
   "execution_count": 52,
   "id": "b8e75133-e29a-4a2e-9ac6-2e99bdff5440",
   "metadata": {
    "tags": []
   },
   "outputs": [
    {
     "data": {
      "text/plain": [
       "array([1, 1, 1, 1, 1, 1, 1, 1, 1, 1, 1, 1, 1, 1, 1, 1, 1, 1, 0, 1, 1, 1,\n",
       "       1, 1, 1, 1, 1, 1, 1, 1, 1, 1, 1, 0, 1, 1, 1, 1, 1, 1, 0, 0, 0, 0,\n",
       "       0, 0, 1, 1, 1, 1, 1, 1, 0, 0, 0, 0, 0, 1, 1, 0, 0, 0, 1, 1, 1, 1,\n",
       "       1, 0, 0, 0, 1, 1, 1, 1, 0, 0, 1, 1, 0, 1, 1, 1, 1, 1, 0, 0, 1, 1,\n",
       "       1, 1, 0, 0, 1, 1, 1, 1, 1, 1, 1, 1, 0, 1, 1, 1, 0, 0, 0, 0, 1, 1,\n",
       "       1, 1, 0, 0, 1, 1, 0, 1, 1, 1, 1, 1, 1, 0, 1, 1, 1, 1, 1, 1, 1, 1,\n",
       "       1, 1, 1, 0, 1, 1, 1, 1, 0, 0, 0, 0, 0, 1, 1, 1, 1, 1, 1, 1, 1, 1,\n",
       "       1, 1, 1])"
      ]
     },
     "execution_count": 52,
     "metadata": {},
     "output_type": "execute_result"
    }
   ],
   "source": [
    "cat_enc_le"
   ]
  },
  {
   "cell_type": "code",
   "execution_count": 53,
   "id": "92a93b38-a98a-4291-b177-471951f8ac3e",
   "metadata": {
    "tags": []
   },
   "outputs": [
    {
     "data": {
      "text/plain": [
       "array([0, 1])"
      ]
     },
     "execution_count": 53,
     "metadata": {},
     "output_type": "execute_result"
    }
   ],
   "source": [
    "np.unique(cat_enc_le)"
   ]
  },
  {
   "cell_type": "code",
   "execution_count": 55,
   "id": "7695e471-ae04-4f1e-915f-73a5b14d3459",
   "metadata": {
    "tags": []
   },
   "outputs": [
    {
     "data": {
      "text/plain": [
       "array(['Car', 'Passenger'], dtype=object)"
      ]
     },
     "execution_count": 55,
     "metadata": {},
     "output_type": "execute_result"
    }
   ],
   "source": [
    "# В этом примере видно, что перед кодированием \n",
    "# уникальные значения признака сортируются в лексикографиеском порядке\n",
    "le.inverse_transform([0, 1])"
   ]
  },
  {
   "cell_type": "code",
   "execution_count": 56,
   "id": "ac4d1b5f-3319-40f7-ab60-d112dad3b3a0",
   "metadata": {
    "tags": []
   },
   "outputs": [],
   "source": [
    "# Использование OrdinalEncoder\n",
    "from sklearn.preprocessing import OrdinalEncoder"
   ]
  },
  {
   "cell_type": "code",
   "execution_count": 58,
   "id": "051ae34c-e614-4a4d-9d3d-cdb74206f700",
   "metadata": {
    "tags": []
   },
   "outputs": [
    {
     "data": {
      "text/html": [
       "<div>\n",
       "<style scoped>\n",
       "    .dataframe tbody tr th:only-of-type {\n",
       "        vertical-align: middle;\n",
       "    }\n",
       "\n",
       "    .dataframe tbody tr th {\n",
       "        vertical-align: top;\n",
       "    }\n",
       "\n",
       "    .dataframe thead th {\n",
       "        text-align: right;\n",
       "    }\n",
       "</style>\n",
       "<table border=\"1\" class=\"dataframe\">\n",
       "  <thead>\n",
       "    <tr style=\"text-align: right;\">\n",
       "      <th></th>\n",
       "      <th>Vehicle_type</th>\n",
       "    </tr>\n",
       "  </thead>\n",
       "  <tbody>\n",
       "    <tr>\n",
       "      <th>0</th>\n",
       "      <td>NaN</td>\n",
       "    </tr>\n",
       "    <tr>\n",
       "      <th>1</th>\n",
       "      <td>Passenger</td>\n",
       "    </tr>\n",
       "    <tr>\n",
       "      <th>2</th>\n",
       "      <td>Passenger</td>\n",
       "    </tr>\n",
       "    <tr>\n",
       "      <th>3</th>\n",
       "      <td>Passenger</td>\n",
       "    </tr>\n",
       "    <tr>\n",
       "      <th>4</th>\n",
       "      <td>Passenger</td>\n",
       "    </tr>\n",
       "  </tbody>\n",
       "</table>\n",
       "</div>"
      ],
      "text/plain": [
       "  Vehicle_type\n",
       "0          NaN\n",
       "1    Passenger\n",
       "2    Passenger\n",
       "3    Passenger\n",
       "4    Passenger"
      ]
     },
     "execution_count": 58,
     "metadata": {},
     "output_type": "execute_result"
    }
   ],
   "source": [
    "data_oe = data[['Vehicle_type']]\n",
    "data_oe.head()"
   ]
  },
  {
   "cell_type": "code",
   "execution_count": 59,
   "id": "e7a81129-bbca-4eb9-88ee-6c136440de20",
   "metadata": {
    "tags": []
   },
   "outputs": [
    {
     "data": {
      "text/plain": [
       "array([['NA'],\n",
       "       ['Passenger'],\n",
       "       ['Passenger'],\n",
       "       ['Passenger'],\n",
       "       ['Passenger'],\n",
       "       ['Passenger'],\n",
       "       ['Passenger'],\n",
       "       ['Passenger'],\n",
       "       ['Passenger'],\n",
       "       ['Passenger'],\n",
       "       ['Passenger'],\n",
       "       ['Passenger'],\n",
       "       ['Passenger'],\n",
       "       ['Passenger'],\n",
       "       ['Passenger'],\n",
       "       ['Passenger'],\n",
       "       ['Passenger'],\n",
       "       ['Passenger'],\n",
       "       ['Car'],\n",
       "       ['Passenger'],\n",
       "       ['Passenger'],\n",
       "       ['Passenger'],\n",
       "       ['Passenger'],\n",
       "       ['Passenger'],\n",
       "       ['Passenger'],\n",
       "       ['Passenger'],\n",
       "       ['Passenger'],\n",
       "       ['Passenger'],\n",
       "       ['Passenger'],\n",
       "       ['Passenger'],\n",
       "       ['Passenger'],\n",
       "       ['Passenger'],\n",
       "       ['Passenger'],\n",
       "       ['Car'],\n",
       "       ['Passenger'],\n",
       "       ['Passenger'],\n",
       "       ['Passenger'],\n",
       "       ['Passenger'],\n",
       "       ['Passenger'],\n",
       "       ['Passenger'],\n",
       "       ['Car'],\n",
       "       ['Car'],\n",
       "       ['Car'],\n",
       "       ['Car'],\n",
       "       ['Car'],\n",
       "       ['Car'],\n",
       "       ['Passenger'],\n",
       "       ['Passenger'],\n",
       "       ['Passenger'],\n",
       "       ['Passenger'],\n",
       "       ['Passenger'],\n",
       "       ['Passenger'],\n",
       "       ['Car'],\n",
       "       ['Car'],\n",
       "       ['Car'],\n",
       "       ['Car'],\n",
       "       ['Car'],\n",
       "       ['NA'],\n",
       "       ['Passenger'],\n",
       "       ['Car'],\n",
       "       ['Car'],\n",
       "       ['Car'],\n",
       "       ['Passenger'],\n",
       "       ['Passenger'],\n",
       "       ['Passenger'],\n",
       "       ['Passenger'],\n",
       "       ['Passenger'],\n",
       "       ['Car'],\n",
       "       ['Car'],\n",
       "       ['Car'],\n",
       "       ['Passenger'],\n",
       "       ['Passenger'],\n",
       "       ['Passenger'],\n",
       "       ['Passenger'],\n",
       "       ['Car'],\n",
       "       ['Car'],\n",
       "       ['Passenger'],\n",
       "       ['Passenger'],\n",
       "       ['Car'],\n",
       "       ['Passenger'],\n",
       "       ['Passenger'],\n",
       "       ['Passenger'],\n",
       "       ['Passenger'],\n",
       "       ['Passenger'],\n",
       "       ['Car'],\n",
       "       ['Car'],\n",
       "       ['Passenger'],\n",
       "       ['Passenger'],\n",
       "       ['Passenger'],\n",
       "       ['Passenger'],\n",
       "       ['Car'],\n",
       "       ['Car'],\n",
       "       ['Passenger'],\n",
       "       ['Passenger'],\n",
       "       ['Passenger'],\n",
       "       ['Passenger'],\n",
       "       ['Passenger'],\n",
       "       ['Passenger'],\n",
       "       ['Passenger'],\n",
       "       ['Passenger'],\n",
       "       ['Car'],\n",
       "       ['Passenger'],\n",
       "       ['Passenger'],\n",
       "       ['Passenger'],\n",
       "       ['Car'],\n",
       "       ['Car'],\n",
       "       ['Car'],\n",
       "       ['Car'],\n",
       "       ['Passenger'],\n",
       "       ['Passenger'],\n",
       "       ['Passenger'],\n",
       "       ['Passenger'],\n",
       "       ['Car'],\n",
       "       ['Car'],\n",
       "       ['Passenger'],\n",
       "       ['Passenger'],\n",
       "       ['Car'],\n",
       "       ['Passenger'],\n",
       "       ['Passenger'],\n",
       "       ['Passenger'],\n",
       "       ['Passenger'],\n",
       "       ['Passenger'],\n",
       "       ['Passenger'],\n",
       "       ['Car'],\n",
       "       ['Passenger'],\n",
       "       ['Passenger'],\n",
       "       ['Passenger'],\n",
       "       ['Passenger'],\n",
       "       ['Passenger'],\n",
       "       ['Passenger'],\n",
       "       ['Passenger'],\n",
       "       ['Passenger'],\n",
       "       ['Passenger'],\n",
       "       ['Passenger'],\n",
       "       ['Passenger'],\n",
       "       ['Car'],\n",
       "       ['Passenger'],\n",
       "       ['Passenger'],\n",
       "       ['Passenger'],\n",
       "       ['Passenger'],\n",
       "       ['Car'],\n",
       "       ['Car'],\n",
       "       ['Car'],\n",
       "       ['Car'],\n",
       "       ['Car'],\n",
       "       ['Passenger'],\n",
       "       ['Passenger'],\n",
       "       ['Passenger'],\n",
       "       ['Passenger'],\n",
       "       ['Passenger'],\n",
       "       ['Passenger'],\n",
       "       ['Passenger'],\n",
       "       ['Passenger'],\n",
       "       ['Passenger'],\n",
       "       ['Passenger'],\n",
       "       ['Passenger'],\n",
       "       ['Passenger']], dtype=object)"
      ]
     },
     "execution_count": 59,
     "metadata": {},
     "output_type": "execute_result"
    }
   ],
   "source": [
    "imp4 = SimpleImputer(missing_values=np.nan, strategy='constant', fill_value='NA')\n",
    "data_oe_filled = imp4.fit_transform(data_oe)\n",
    "data_oe_filled"
   ]
  },
  {
   "cell_type": "code",
   "execution_count": 60,
   "id": "57b7fb6a-2a6c-4fb2-9b29-8251c078dcd9",
   "metadata": {
    "tags": []
   },
   "outputs": [
    {
     "data": {
      "text/plain": [
       "array([[1.],\n",
       "       [2.],\n",
       "       [2.],\n",
       "       [2.],\n",
       "       [2.],\n",
       "       [2.],\n",
       "       [2.],\n",
       "       [2.],\n",
       "       [2.],\n",
       "       [2.],\n",
       "       [2.],\n",
       "       [2.],\n",
       "       [2.],\n",
       "       [2.],\n",
       "       [2.],\n",
       "       [2.],\n",
       "       [2.],\n",
       "       [2.],\n",
       "       [0.],\n",
       "       [2.],\n",
       "       [2.],\n",
       "       [2.],\n",
       "       [2.],\n",
       "       [2.],\n",
       "       [2.],\n",
       "       [2.],\n",
       "       [2.],\n",
       "       [2.],\n",
       "       [2.],\n",
       "       [2.],\n",
       "       [2.],\n",
       "       [2.],\n",
       "       [2.],\n",
       "       [0.],\n",
       "       [2.],\n",
       "       [2.],\n",
       "       [2.],\n",
       "       [2.],\n",
       "       [2.],\n",
       "       [2.],\n",
       "       [0.],\n",
       "       [0.],\n",
       "       [0.],\n",
       "       [0.],\n",
       "       [0.],\n",
       "       [0.],\n",
       "       [2.],\n",
       "       [2.],\n",
       "       [2.],\n",
       "       [2.],\n",
       "       [2.],\n",
       "       [2.],\n",
       "       [0.],\n",
       "       [0.],\n",
       "       [0.],\n",
       "       [0.],\n",
       "       [0.],\n",
       "       [1.],\n",
       "       [2.],\n",
       "       [0.],\n",
       "       [0.],\n",
       "       [0.],\n",
       "       [2.],\n",
       "       [2.],\n",
       "       [2.],\n",
       "       [2.],\n",
       "       [2.],\n",
       "       [0.],\n",
       "       [0.],\n",
       "       [0.],\n",
       "       [2.],\n",
       "       [2.],\n",
       "       [2.],\n",
       "       [2.],\n",
       "       [0.],\n",
       "       [0.],\n",
       "       [2.],\n",
       "       [2.],\n",
       "       [0.],\n",
       "       [2.],\n",
       "       [2.],\n",
       "       [2.],\n",
       "       [2.],\n",
       "       [2.],\n",
       "       [0.],\n",
       "       [0.],\n",
       "       [2.],\n",
       "       [2.],\n",
       "       [2.],\n",
       "       [2.],\n",
       "       [0.],\n",
       "       [0.],\n",
       "       [2.],\n",
       "       [2.],\n",
       "       [2.],\n",
       "       [2.],\n",
       "       [2.],\n",
       "       [2.],\n",
       "       [2.],\n",
       "       [2.],\n",
       "       [0.],\n",
       "       [2.],\n",
       "       [2.],\n",
       "       [2.],\n",
       "       [0.],\n",
       "       [0.],\n",
       "       [0.],\n",
       "       [0.],\n",
       "       [2.],\n",
       "       [2.],\n",
       "       [2.],\n",
       "       [2.],\n",
       "       [0.],\n",
       "       [0.],\n",
       "       [2.],\n",
       "       [2.],\n",
       "       [0.],\n",
       "       [2.],\n",
       "       [2.],\n",
       "       [2.],\n",
       "       [2.],\n",
       "       [2.],\n",
       "       [2.],\n",
       "       [0.],\n",
       "       [2.],\n",
       "       [2.],\n",
       "       [2.],\n",
       "       [2.],\n",
       "       [2.],\n",
       "       [2.],\n",
       "       [2.],\n",
       "       [2.],\n",
       "       [2.],\n",
       "       [2.],\n",
       "       [2.],\n",
       "       [0.],\n",
       "       [2.],\n",
       "       [2.],\n",
       "       [2.],\n",
       "       [2.],\n",
       "       [0.],\n",
       "       [0.],\n",
       "       [0.],\n",
       "       [0.],\n",
       "       [0.],\n",
       "       [2.],\n",
       "       [2.],\n",
       "       [2.],\n",
       "       [2.],\n",
       "       [2.],\n",
       "       [2.],\n",
       "       [2.],\n",
       "       [2.],\n",
       "       [2.],\n",
       "       [2.],\n",
       "       [2.],\n",
       "       [2.]])"
      ]
     },
     "execution_count": 60,
     "metadata": {},
     "output_type": "execute_result"
    }
   ],
   "source": [
    "oe = OrdinalEncoder()\n",
    "cat_enc_oe = oe.fit_transform(data_oe_filled)\n",
    "cat_enc_oe"
   ]
  },
  {
   "cell_type": "code",
   "execution_count": 61,
   "id": "ddb4ee3a-fba9-4d67-bd07-557190c76020",
   "metadata": {
    "tags": []
   },
   "outputs": [
    {
     "data": {
      "text/plain": [
       "array([0., 1., 2.])"
      ]
     },
     "execution_count": 61,
     "metadata": {},
     "output_type": "execute_result"
    }
   ],
   "source": [
    "np.unique(cat_enc_oe[:, 0])"
   ]
  },
  {
   "cell_type": "code",
   "execution_count": 63,
   "id": "69ecc2de-b8fe-4aa5-bf74-d2eb071ebb47",
   "metadata": {
    "tags": []
   },
   "outputs": [
    {
     "data": {
      "text/plain": [
       "[array(['Car', 'NA', 'Passenger'], dtype=object)]"
      ]
     },
     "execution_count": 63,
     "metadata": {},
     "output_type": "execute_result"
    }
   ],
   "source": [
    "oe.categories_"
   ]
  },
  {
   "cell_type": "code",
   "execution_count": 64,
   "id": "130ae252-64f2-4bd8-84d7-e312ca6d37cd",
   "metadata": {
    "tags": []
   },
   "outputs": [
    {
     "data": {
      "text/plain": [
       "array([['NA'],\n",
       "       ['Passenger'],\n",
       "       ['Passenger'],\n",
       "       ['Passenger'],\n",
       "       ['Passenger'],\n",
       "       ['Passenger'],\n",
       "       ['Passenger'],\n",
       "       ['Passenger'],\n",
       "       ['Passenger'],\n",
       "       ['Passenger'],\n",
       "       ['Passenger'],\n",
       "       ['Passenger'],\n",
       "       ['Passenger'],\n",
       "       ['Passenger'],\n",
       "       ['Passenger'],\n",
       "       ['Passenger'],\n",
       "       ['Passenger'],\n",
       "       ['Passenger'],\n",
       "       ['Car'],\n",
       "       ['Passenger'],\n",
       "       ['Passenger'],\n",
       "       ['Passenger'],\n",
       "       ['Passenger'],\n",
       "       ['Passenger'],\n",
       "       ['Passenger'],\n",
       "       ['Passenger'],\n",
       "       ['Passenger'],\n",
       "       ['Passenger'],\n",
       "       ['Passenger'],\n",
       "       ['Passenger'],\n",
       "       ['Passenger'],\n",
       "       ['Passenger'],\n",
       "       ['Passenger'],\n",
       "       ['Car'],\n",
       "       ['Passenger'],\n",
       "       ['Passenger'],\n",
       "       ['Passenger'],\n",
       "       ['Passenger'],\n",
       "       ['Passenger'],\n",
       "       ['Passenger'],\n",
       "       ['Car'],\n",
       "       ['Car'],\n",
       "       ['Car'],\n",
       "       ['Car'],\n",
       "       ['Car'],\n",
       "       ['Car'],\n",
       "       ['Passenger'],\n",
       "       ['Passenger'],\n",
       "       ['Passenger'],\n",
       "       ['Passenger'],\n",
       "       ['Passenger'],\n",
       "       ['Passenger'],\n",
       "       ['Car'],\n",
       "       ['Car'],\n",
       "       ['Car'],\n",
       "       ['Car'],\n",
       "       ['Car'],\n",
       "       ['NA'],\n",
       "       ['Passenger'],\n",
       "       ['Car'],\n",
       "       ['Car'],\n",
       "       ['Car'],\n",
       "       ['Passenger'],\n",
       "       ['Passenger'],\n",
       "       ['Passenger'],\n",
       "       ['Passenger'],\n",
       "       ['Passenger'],\n",
       "       ['Car'],\n",
       "       ['Car'],\n",
       "       ['Car'],\n",
       "       ['Passenger'],\n",
       "       ['Passenger'],\n",
       "       ['Passenger'],\n",
       "       ['Passenger'],\n",
       "       ['Car'],\n",
       "       ['Car'],\n",
       "       ['Passenger'],\n",
       "       ['Passenger'],\n",
       "       ['Car'],\n",
       "       ['Passenger'],\n",
       "       ['Passenger'],\n",
       "       ['Passenger'],\n",
       "       ['Passenger'],\n",
       "       ['Passenger'],\n",
       "       ['Car'],\n",
       "       ['Car'],\n",
       "       ['Passenger'],\n",
       "       ['Passenger'],\n",
       "       ['Passenger'],\n",
       "       ['Passenger'],\n",
       "       ['Car'],\n",
       "       ['Car'],\n",
       "       ['Passenger'],\n",
       "       ['Passenger'],\n",
       "       ['Passenger'],\n",
       "       ['Passenger'],\n",
       "       ['Passenger'],\n",
       "       ['Passenger'],\n",
       "       ['Passenger'],\n",
       "       ['Passenger'],\n",
       "       ['Car'],\n",
       "       ['Passenger'],\n",
       "       ['Passenger'],\n",
       "       ['Passenger'],\n",
       "       ['Car'],\n",
       "       ['Car'],\n",
       "       ['Car'],\n",
       "       ['Car'],\n",
       "       ['Passenger'],\n",
       "       ['Passenger'],\n",
       "       ['Passenger'],\n",
       "       ['Passenger'],\n",
       "       ['Car'],\n",
       "       ['Car'],\n",
       "       ['Passenger'],\n",
       "       ['Passenger'],\n",
       "       ['Car'],\n",
       "       ['Passenger'],\n",
       "       ['Passenger'],\n",
       "       ['Passenger'],\n",
       "       ['Passenger'],\n",
       "       ['Passenger'],\n",
       "       ['Passenger'],\n",
       "       ['Car'],\n",
       "       ['Passenger'],\n",
       "       ['Passenger'],\n",
       "       ['Passenger'],\n",
       "       ['Passenger'],\n",
       "       ['Passenger'],\n",
       "       ['Passenger'],\n",
       "       ['Passenger'],\n",
       "       ['Passenger'],\n",
       "       ['Passenger'],\n",
       "       ['Passenger'],\n",
       "       ['Passenger'],\n",
       "       ['Car'],\n",
       "       ['Passenger'],\n",
       "       ['Passenger'],\n",
       "       ['Passenger'],\n",
       "       ['Passenger'],\n",
       "       ['Car'],\n",
       "       ['Car'],\n",
       "       ['Car'],\n",
       "       ['Car'],\n",
       "       ['Car'],\n",
       "       ['Passenger'],\n",
       "       ['Passenger'],\n",
       "       ['Passenger'],\n",
       "       ['Passenger'],\n",
       "       ['Passenger'],\n",
       "       ['Passenger'],\n",
       "       ['Passenger'],\n",
       "       ['Passenger'],\n",
       "       ['Passenger'],\n",
       "       ['Passenger'],\n",
       "       ['Passenger'],\n",
       "       ['Passenger']], dtype=object)"
      ]
     },
     "execution_count": 64,
     "metadata": {},
     "output_type": "execute_result"
    }
   ],
   "source": [
    "oe.inverse_transform(cat_enc_oe)"
   ]
  },
  {
   "cell_type": "code",
   "execution_count": 70,
   "id": "569129ba-b925-451b-a6bc-ef2cec6df335",
   "metadata": {
    "tags": []
   },
   "outputs": [],
   "source": [
    "# Кодирование категорий наборами бинарных значений - one-hot encoding\n",
    "from sklearn.preprocessing import OneHotEncoder"
   ]
  },
  {
   "cell_type": "code",
   "execution_count": 71,
   "id": "642311cd-0b87-4817-b5c9-5f7612fc890f",
   "metadata": {
    "tags": []
   },
   "outputs": [],
   "source": [
    "ohe = OneHotEncoder()\n",
    "cat_enc_ohe = ohe.fit_transform(cat_enc[['c1']])"
   ]
  },
  {
   "cell_type": "code",
   "execution_count": 73,
   "id": "83131981-1970-40f3-aca0-1e3586725ddf",
   "metadata": {
    "tags": []
   },
   "outputs": [
    {
     "data": {
      "text/plain": [
       "(157, 1)"
      ]
     },
     "execution_count": 73,
     "metadata": {},
     "output_type": "execute_result"
    }
   ],
   "source": [
    "cat_enc.shape"
   ]
  },
  {
   "cell_type": "code",
   "execution_count": 74,
   "id": "a5d8263d-24e5-43c2-ab6c-4daa103ff0e9",
   "metadata": {
    "tags": []
   },
   "outputs": [
    {
     "data": {
      "text/plain": [
       "(157, 2)"
      ]
     },
     "execution_count": 74,
     "metadata": {},
     "output_type": "execute_result"
    }
   ],
   "source": [
    "cat_enc_ohe.shape"
   ]
  },
  {
   "cell_type": "code",
   "execution_count": 80,
   "id": "acdfb367-5b62-4521-8c51-cc462311eb69",
   "metadata": {
    "tags": []
   },
   "outputs": [
    {
     "data": {
      "text/plain": [
       "<157x2 sparse matrix of type '<class 'numpy.float64'>'\n",
       "\twith 157 stored elements in Compressed Sparse Row format>"
      ]
     },
     "execution_count": 80,
     "metadata": {},
     "output_type": "execute_result"
    }
   ],
   "source": [
    "cat_enc_ohe"
   ]
  },
  {
   "cell_type": "code",
   "execution_count": 81,
   "id": "5e1791b3-17b0-44fd-9e7f-dec15fadf8ee",
   "metadata": {
    "tags": []
   },
   "outputs": [
    {
     "data": {
      "text/plain": [
       "matrix([[0., 1.],\n",
       "        [0., 1.],\n",
       "        [0., 1.],\n",
       "        [0., 1.],\n",
       "        [0., 1.],\n",
       "        [0., 1.],\n",
       "        [0., 1.],\n",
       "        [0., 1.],\n",
       "        [0., 1.],\n",
       "        [0., 1.]])"
      ]
     },
     "execution_count": 81,
     "metadata": {},
     "output_type": "execute_result"
    }
   ],
   "source": [
    "cat_enc_ohe.todense()[0:10]"
   ]
  },
  {
   "cell_type": "code",
   "execution_count": 83,
   "id": "2e90ac3b-c522-4865-97b7-082da497f6c2",
   "metadata": {
    "tags": []
   },
   "outputs": [
    {
     "data": {
      "text/html": [
       "<div>\n",
       "<style scoped>\n",
       "    .dataframe tbody tr th:only-of-type {\n",
       "        vertical-align: middle;\n",
       "    }\n",
       "\n",
       "    .dataframe tbody tr th {\n",
       "        vertical-align: top;\n",
       "    }\n",
       "\n",
       "    .dataframe thead th {\n",
       "        text-align: right;\n",
       "    }\n",
       "</style>\n",
       "<table border=\"1\" class=\"dataframe\">\n",
       "  <thead>\n",
       "    <tr style=\"text-align: right;\">\n",
       "      <th></th>\n",
       "      <th>c1</th>\n",
       "    </tr>\n",
       "  </thead>\n",
       "  <tbody>\n",
       "    <tr>\n",
       "      <th>0</th>\n",
       "      <td>Passenger</td>\n",
       "    </tr>\n",
       "    <tr>\n",
       "      <th>1</th>\n",
       "      <td>Passenger</td>\n",
       "    </tr>\n",
       "    <tr>\n",
       "      <th>2</th>\n",
       "      <td>Passenger</td>\n",
       "    </tr>\n",
       "    <tr>\n",
       "      <th>3</th>\n",
       "      <td>Passenger</td>\n",
       "    </tr>\n",
       "    <tr>\n",
       "      <th>4</th>\n",
       "      <td>Passenger</td>\n",
       "    </tr>\n",
       "    <tr>\n",
       "      <th>5</th>\n",
       "      <td>Passenger</td>\n",
       "    </tr>\n",
       "    <tr>\n",
       "      <th>6</th>\n",
       "      <td>Passenger</td>\n",
       "    </tr>\n",
       "    <tr>\n",
       "      <th>7</th>\n",
       "      <td>Passenger</td>\n",
       "    </tr>\n",
       "    <tr>\n",
       "      <th>8</th>\n",
       "      <td>Passenger</td>\n",
       "    </tr>\n",
       "    <tr>\n",
       "      <th>9</th>\n",
       "      <td>Passenger</td>\n",
       "    </tr>\n",
       "  </tbody>\n",
       "</table>\n",
       "</div>"
      ],
      "text/plain": [
       "          c1\n",
       "0  Passenger\n",
       "1  Passenger\n",
       "2  Passenger\n",
       "3  Passenger\n",
       "4  Passenger\n",
       "5  Passenger\n",
       "6  Passenger\n",
       "7  Passenger\n",
       "8  Passenger\n",
       "9  Passenger"
      ]
     },
     "execution_count": 83,
     "metadata": {},
     "output_type": "execute_result"
    }
   ],
   "source": [
    "cat_enc.head(10)"
   ]
  },
  {
   "cell_type": "code",
   "execution_count": 84,
   "id": "d73bb2c4-6c9a-4854-b440-80f64e6d3916",
   "metadata": {
    "tags": []
   },
   "outputs": [
    {
     "data": {
      "text/html": [
       "<div>\n",
       "<style scoped>\n",
       "    .dataframe tbody tr th:only-of-type {\n",
       "        vertical-align: middle;\n",
       "    }\n",
       "\n",
       "    .dataframe tbody tr th {\n",
       "        vertical-align: top;\n",
       "    }\n",
       "\n",
       "    .dataframe thead th {\n",
       "        text-align: right;\n",
       "    }\n",
       "</style>\n",
       "<table border=\"1\" class=\"dataframe\">\n",
       "  <thead>\n",
       "    <tr style=\"text-align: right;\">\n",
       "      <th></th>\n",
       "      <th>c1_Car</th>\n",
       "      <th>c1_Passenger</th>\n",
       "    </tr>\n",
       "  </thead>\n",
       "  <tbody>\n",
       "    <tr>\n",
       "      <th>0</th>\n",
       "      <td>False</td>\n",
       "      <td>True</td>\n",
       "    </tr>\n",
       "    <tr>\n",
       "      <th>1</th>\n",
       "      <td>False</td>\n",
       "      <td>True</td>\n",
       "    </tr>\n",
       "    <tr>\n",
       "      <th>2</th>\n",
       "      <td>False</td>\n",
       "      <td>True</td>\n",
       "    </tr>\n",
       "    <tr>\n",
       "      <th>3</th>\n",
       "      <td>False</td>\n",
       "      <td>True</td>\n",
       "    </tr>\n",
       "    <tr>\n",
       "      <th>4</th>\n",
       "      <td>False</td>\n",
       "      <td>True</td>\n",
       "    </tr>\n",
       "  </tbody>\n",
       "</table>\n",
       "</div>"
      ],
      "text/plain": [
       "   c1_Car  c1_Passenger\n",
       "0   False          True\n",
       "1   False          True\n",
       "2   False          True\n",
       "3   False          True\n",
       "4   False          True"
      ]
     },
     "execution_count": 84,
     "metadata": {},
     "output_type": "execute_result"
    }
   ],
   "source": [
    "pd.get_dummies(cat_enc).head()"
   ]
  },
  {
   "cell_type": "code",
   "execution_count": 86,
   "id": "018ab746-a83a-42d1-84e6-5e71355218cb",
   "metadata": {
    "tags": []
   },
   "outputs": [
    {
     "data": {
      "text/html": [
       "<div>\n",
       "<style scoped>\n",
       "    .dataframe tbody tr th:only-of-type {\n",
       "        vertical-align: middle;\n",
       "    }\n",
       "\n",
       "    .dataframe tbody tr th {\n",
       "        vertical-align: top;\n",
       "    }\n",
       "\n",
       "    .dataframe thead th {\n",
       "        text-align: right;\n",
       "    }\n",
       "</style>\n",
       "<table border=\"1\" class=\"dataframe\">\n",
       "  <thead>\n",
       "    <tr style=\"text-align: right;\">\n",
       "      <th></th>\n",
       "      <th>Vehicle_type_Car</th>\n",
       "      <th>Vehicle_type_Passenger</th>\n",
       "      <th>Vehicle_type_nan</th>\n",
       "    </tr>\n",
       "  </thead>\n",
       "  <tbody>\n",
       "    <tr>\n",
       "      <th>0</th>\n",
       "      <td>False</td>\n",
       "      <td>False</td>\n",
       "      <td>True</td>\n",
       "    </tr>\n",
       "    <tr>\n",
       "      <th>1</th>\n",
       "      <td>False</td>\n",
       "      <td>True</td>\n",
       "      <td>False</td>\n",
       "    </tr>\n",
       "    <tr>\n",
       "      <th>2</th>\n",
       "      <td>False</td>\n",
       "      <td>True</td>\n",
       "      <td>False</td>\n",
       "    </tr>\n",
       "    <tr>\n",
       "      <th>3</th>\n",
       "      <td>False</td>\n",
       "      <td>True</td>\n",
       "      <td>False</td>\n",
       "    </tr>\n",
       "    <tr>\n",
       "      <th>4</th>\n",
       "      <td>False</td>\n",
       "      <td>True</td>\n",
       "      <td>False</td>\n",
       "    </tr>\n",
       "  </tbody>\n",
       "</table>\n",
       "</div>"
      ],
      "text/plain": [
       "   Vehicle_type_Car  Vehicle_type_Passenger  Vehicle_type_nan\n",
       "0             False                   False              True\n",
       "1             False                    True             False\n",
       "2             False                    True             False\n",
       "3             False                    True             False\n",
       "4             False                    True             False"
      ]
     },
     "execution_count": 86,
     "metadata": {},
     "output_type": "execute_result"
    }
   ],
   "source": [
    "pd.get_dummies(cat_temp_data, dummy_na=True).head()"
   ]
  },
  {
   "cell_type": "code",
   "execution_count": 87,
   "id": "8f4dfd59-7d55-4719-9853-cc1b0ace8ae6",
   "metadata": {
    "tags": []
   },
   "outputs": [],
   "source": [
    "# Масштабирование данных\n",
    "from sklearn.preprocessing import MinMaxScaler, StandardScaler, Normalizer"
   ]
  },
  {
   "cell_type": "code",
   "execution_count": 90,
   "id": "015bdcb9-6d23-46b4-98de-fcd84b0bc571",
   "metadata": {
    "tags": []
   },
   "outputs": [],
   "source": [
    "sc1 = MinMaxScaler()\n",
    "sc1_data = sc1.fit_transform(data[['Price_in_thousands']])"
   ]
  },
  {
   "cell_type": "code",
   "execution_count": 91,
   "id": "a575eb95-1526-4380-b818-1776f18e0c15",
   "metadata": {
    "tags": []
   },
   "outputs": [
    {
     "data": {
      "image/png": "[encoded data removed]",
      "text/plain": [
       "<Figure size 640x480 with 1 Axes>"
      ]
     },
     "metadata": {},
     "output_type": "display_data"
    }
   ],
   "source": [
    "plt.hist(data['Price_in_thousands'], 50)\n",
    "plt.show()"
   ]
  },
  {
   "cell_type": "code",
   "execution_count": 99,
   "id": "6006c13c-e2b5-44e3-bbd2-4ebf55c05d12",
   "metadata": {
    "tags": []
   },
   "outputs": [
    {
     "data": {
      "image/png": "[encoded data removed]",
      "text/plain": [
       "<Figure size 640x480 with 1 Axes>"
      ]
     },
     "metadata": {},
     "output_type": "display_data"
    }
   ],
   "source": [
    "plt.hist(sc1_data, 50)\n",
    "plt.show()"
   ]
  },
  {
   "cell_type": "code",
   "execution_count": 94,
   "id": "da2c4ed3-921d-4449-9aa2-35f83a0f7e74",
   "metadata": {
    "tags": []
   },
   "outputs": [],
   "source": [
    "# Масштабирование данных на основе Z-оценки - StandardScaler\n",
    "sc2 = StandardScaler()\n",
    "sc2_data = sc2.fit_transform(data[['Price_in_thousands']])"
   ]
  },
  {
   "cell_type": "code",
   "execution_count": 95,
   "id": "c838aa1d-e3a7-488d-95bc-6c861815b4d6",
   "metadata": {
    "tags": []
   },
   "outputs": [
    {
     "data": {
      "image/png": "[encoded data removed]",
      "text/plain": [
       "<Figure size 640x480 with 1 Axes>"
      ]
     },
     "metadata": {},
     "output_type": "display_data"
    }
   ],
   "source": [
    "plt.hist(sc2_data, 50)\n",
    "plt.show()"
   ]
  },
  {
   "cell_type": "code",
   "execution_count": null,
   "id": "597d1d95-5c4e-40b4-8d9c-b7c1539d3a02",
   "metadata": {},
   "outputs": [],
   "source": []
  }
 ],
 "metadata": {
  "kernelspec": {
   "display_name": "Python 3 (ipykernel)",
   "language": "python",
   "name": "python3"
  },
  "language_info": {
   "codemirror_mode": {
    "name": "ipython",
    "version": 3
   },
   "file_extension": ".py",
   "mimetype": "text/x-python",
   "name": "python",
   "nbconvert_exporter": "python",
   "pygments_lexer": "ipython3",
   "version": "3.11.5"
  }
 },
 "nbformat": 4,
 "nbformat_minor": 5
}
