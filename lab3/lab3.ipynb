{
 "cells": [
  {
   "cell_type": "markdown",
   "metadata": {},
   "source": [
    "# Задание \n"
   ]
  },
  {
   "cell_type": "markdown",
   "metadata": {},
   "source": [
    "\n",
    "  -  Выберите набор данных (датасет) для решения задачи классификации или регрессии.\n",
    "  -  В случае необходимости проведите удаление или заполнение пропусков и кодирование категориальных признаков.\n",
    "  -  С использованием метода train_test_split разделите выборку на обучающую и тестовую.\n",
    "  -  Обучите модель ближайших соседей для произвольно заданного гиперпараметра K. Оцените качество модели с помощью подходящих для задачи метрик.\n",
    "  -  Произведите подбор гиперпараметра K с использованием GridSearchCV и RandomizedSearchCV и кросс-валидации, оцените качество оптимальной модели. Используйте не менее двух стратегий кросс-валидации.\n",
    "  - Сравните метрики качества исходной и оптимальной моделей."
   ]
  },
  {
   "cell_type": "markdown",
   "metadata": {},
   "source": [
    "Выбранный датасет (алмазы):\n",
    "Содержание:\n",
    "- Цена в долларах США ($326--$18,823)\n",
    "- Карат  (0.2--5.01)\n",
    "- Качество обрезки (Низкое, Хорошее, Очень хорошее, Премиум, Идеальное)\n",
    "- Цвет бриллианта, от J (худший) до D (лучший)\n",
    "- Измерение прозрачности бриллианта (I1 (худшее), SI2, SI1, VS2, VS1, VVS2, VVS1, IF (лучшее))\n",
    "- X длина в мм (0--10.74)\n",
    "- Y ширина в мм (0--58.9)\n",
    "- Z глубина в мм (0--31.8)\n",
    "- Общий процент глубины = z / среднее(x, y) = 2 * z / (x + y) (43--79)\n",
    "- Ширина вершины бриллианта относительно самой широкой точки (43--95)"
   ]
  },
  {
   "cell_type": "code",
   "execution_count": 197,
   "metadata": {},
   "outputs": [],
   "source": [
    "import numpy as np\n",
    "import pandas as pd\n",
    "import seaborn as sns\n",
    "import matplotlib.pyplot as plt\n",
    "%matplotlib inline\n",
    "sns.set(style=\"ticks\")"
   ]
  },
  {
   "cell_type": "code",
   "execution_count": 241,
   "metadata": {},
   "outputs": [],
   "source": [
    "data = pd.read_csv('diamonds.csv')"
   ]
  },
  {
   "cell_type": "code",
   "execution_count": 242,
   "metadata": {},
   "outputs": [],
   "source": [
    "data = data.drop(columns=['id'])"
   ]
  },
  {
   "cell_type": "code",
   "execution_count": 243,
   "metadata": {},
   "outputs": [
    {
     "data": {
      "text/plain": [
       "((53940, 10), (53940,))"
      ]
     },
     "execution_count": 243,
     "metadata": {},
     "output_type": "execute_result"
    }
   ],
   "source": [
    "data.shape, data.price.shape"
   ]
  },
  {
   "cell_type": "code",
   "execution_count": 244,
   "metadata": {},
   "outputs": [
    {
     "data": {
      "text/plain": [
       "carat      float64\n",
       "cut         object\n",
       "color       object\n",
       "clarity     object\n",
       "depth      float64\n",
       "table      float64\n",
       "price        int64\n",
       "x          float64\n",
       "y          float64\n",
       "z          float64\n",
       "dtype: object"
      ]
     },
     "execution_count": 244,
     "metadata": {},
     "output_type": "execute_result"
    }
   ],
   "source": [
    "data.dtypes"
   ]
  },
  {
   "cell_type": "code",
   "execution_count": 245,
   "metadata": {},
   "outputs": [
    {
     "data": {
      "text/plain": [
       "carat      0\n",
       "cut        0\n",
       "color      0\n",
       "clarity    0\n",
       "depth      0\n",
       "table      0\n",
       "price      0\n",
       "x          0\n",
       "y          0\n",
       "z          0\n",
       "dtype: int64"
      ]
     },
     "execution_count": 245,
     "metadata": {},
     "output_type": "execute_result"
    }
   ],
   "source": [
    "data.isnull().sum()"
   ]
  },
  {
   "cell_type": "markdown",
   "metadata": {},
   "source": [
    "Пропущенных значений нет"
   ]
  },
  {
   "cell_type": "code",
   "execution_count": 246,
   "metadata": {},
   "outputs": [
    {
     "data": {
      "text/html": [
       "<div>\n",
       "<style scoped>\n",
       "    .dataframe tbody tr th:only-of-type {\n",
       "        vertical-align: middle;\n",
       "    }\n",
       "\n",
       "    .dataframe tbody tr th {\n",
       "        vertical-align: top;\n",
       "    }\n",
       "\n",
       "    .dataframe thead th {\n",
       "        text-align: right;\n",
       "    }\n",
       "</style>\n",
       "<table border=\"1\" class=\"dataframe\">\n",
       "  <thead>\n",
       "    <tr style=\"text-align: right;\">\n",
       "      <th></th>\n",
       "      <th>carat</th>\n",
       "      <th>cut</th>\n",
       "      <th>color</th>\n",
       "      <th>clarity</th>\n",
       "      <th>depth</th>\n",
       "      <th>table</th>\n",
       "      <th>price</th>\n",
       "      <th>x</th>\n",
       "      <th>y</th>\n",
       "      <th>z</th>\n",
       "    </tr>\n",
       "  </thead>\n",
       "  <tbody>\n",
       "    <tr>\n",
       "      <th>0</th>\n",
       "      <td>0.23</td>\n",
       "      <td>Ideal</td>\n",
       "      <td>E</td>\n",
       "      <td>SI2</td>\n",
       "      <td>61.5</td>\n",
       "      <td>55.0</td>\n",
       "      <td>326</td>\n",
       "      <td>3.95</td>\n",
       "      <td>3.98</td>\n",
       "      <td>2.43</td>\n",
       "    </tr>\n",
       "    <tr>\n",
       "      <th>1</th>\n",
       "      <td>0.21</td>\n",
       "      <td>Premium</td>\n",
       "      <td>E</td>\n",
       "      <td>SI1</td>\n",
       "      <td>59.8</td>\n",
       "      <td>61.0</td>\n",
       "      <td>326</td>\n",
       "      <td>3.89</td>\n",
       "      <td>3.84</td>\n",
       "      <td>2.31</td>\n",
       "    </tr>\n",
       "    <tr>\n",
       "      <th>2</th>\n",
       "      <td>0.23</td>\n",
       "      <td>Good</td>\n",
       "      <td>E</td>\n",
       "      <td>VS1</td>\n",
       "      <td>56.9</td>\n",
       "      <td>65.0</td>\n",
       "      <td>327</td>\n",
       "      <td>4.05</td>\n",
       "      <td>4.07</td>\n",
       "      <td>2.31</td>\n",
       "    </tr>\n",
       "    <tr>\n",
       "      <th>3</th>\n",
       "      <td>0.29</td>\n",
       "      <td>Premium</td>\n",
       "      <td>I</td>\n",
       "      <td>VS2</td>\n",
       "      <td>62.4</td>\n",
       "      <td>58.0</td>\n",
       "      <td>334</td>\n",
       "      <td>4.20</td>\n",
       "      <td>4.23</td>\n",
       "      <td>2.63</td>\n",
       "    </tr>\n",
       "    <tr>\n",
       "      <th>4</th>\n",
       "      <td>0.31</td>\n",
       "      <td>Good</td>\n",
       "      <td>J</td>\n",
       "      <td>SI2</td>\n",
       "      <td>63.3</td>\n",
       "      <td>58.0</td>\n",
       "      <td>335</td>\n",
       "      <td>4.34</td>\n",
       "      <td>4.35</td>\n",
       "      <td>2.75</td>\n",
       "    </tr>\n",
       "  </tbody>\n",
       "</table>\n",
       "</div>"
      ],
      "text/plain": [
       "   carat      cut color clarity  depth  table  price     x     y     z\n",
       "0   0.23    Ideal     E     SI2   61.5   55.0    326  3.95  3.98  2.43\n",
       "1   0.21  Premium     E     SI1   59.8   61.0    326  3.89  3.84  2.31\n",
       "2   0.23     Good     E     VS1   56.9   65.0    327  4.05  4.07  2.31\n",
       "3   0.29  Premium     I     VS2   62.4   58.0    334  4.20  4.23  2.63\n",
       "4   0.31     Good     J     SI2   63.3   58.0    335  4.34  4.35  2.75"
      ]
     },
     "execution_count": 246,
     "metadata": {},
     "output_type": "execute_result"
    }
   ],
   "source": [
    "data.head()"
   ]
  },
  {
   "cell_type": "markdown",
   "metadata": {},
   "source": [
    "Закодируем категориальные признаки"
   ]
  },
  {
   "cell_type": "code",
   "execution_count": 247,
   "metadata": {},
   "outputs": [
    {
     "name": "stdout",
     "output_type": "stream",
     "text": [
      "       carat  depth  table  price     x     y     z  cut_encoded  \\\n",
      "0       0.23   61.5   55.0    326  3.95  3.98  2.43            4   \n",
      "1       0.21   59.8   61.0    326  3.89  3.84  2.31            3   \n",
      "2       0.23   56.9   65.0    327  4.05  4.07  2.31            1   \n",
      "3       0.29   62.4   58.0    334  4.20  4.23  2.63            3   \n",
      "4       0.31   63.3   58.0    335  4.34  4.35  2.75            1   \n",
      "...      ...    ...    ...    ...   ...   ...   ...          ...   \n",
      "53935   0.72   60.8   57.0   2757  5.75  5.76  3.50            4   \n",
      "53936   0.72   63.1   55.0   2757  5.69  5.75  3.61            1   \n",
      "53937   0.70   62.8   60.0   2757  5.66  5.68  3.56            2   \n",
      "53938   0.86   61.0   58.0   2757  6.15  6.12  3.74            3   \n",
      "53939   0.75   62.2   55.0   2757  5.83  5.87  3.64            4   \n",
      "\n",
      "       color_encoded  clarity_encoded  \n",
      "0                  5                1  \n",
      "1                  5                2  \n",
      "2                  5                4  \n",
      "3                  1                3  \n",
      "4                  0                1  \n",
      "...              ...              ...  \n",
      "53935              6                2  \n",
      "53936              6                2  \n",
      "53937              6                2  \n",
      "53938              2                1  \n",
      "53939              6                1  \n",
      "\n",
      "[53940 rows x 10 columns]\n"
     ]
    }
   ],
   "source": [
    "cut_order = {'Fair': 0, 'Good': 1, 'Very Good': 2, 'Premium': 3, 'Ideal': 4}\n",
    "color_order = {'J': 0, 'I': 1, 'H': 2, 'G': 3, 'F': 4, 'E': 5, 'D': 6}\n",
    "clarity_order = {'I1': 0, 'SI2': 1, 'SI1': 2, 'VS2': 3, 'VS1': 4, 'VVS2': 5, 'VVS1': 6, 'IF': 7}\n",
    "data['cut_encoded'] = data['cut'].map(cut_order)\n",
    "data['color_encoded'] = data['color'].map(color_order)\n",
    "data['clarity_encoded'] = data['clarity'].map(clarity_order)\n",
    "df_encoded = data.drop(columns=['cut', 'color', 'clarity'])\n",
    "print(df_encoded)"
   ]
  },
  {
   "cell_type": "markdown",
   "metadata": {},
   "source": [
    "Разделим выборку на обучающую и тестовую"
   ]
  },
  {
   "cell_type": "code",
   "execution_count": 248,
   "metadata": {},
   "outputs": [],
   "source": [
    "from sklearn.model_selection import train_test_split"
   ]
  },
  {
   "cell_type": "markdown",
   "metadata": {},
   "source": [
    "Выделим вектор переменных целевого признака, и матрицу признаков(без целевого)"
   ]
  },
  {
   "cell_type": "code",
   "execution_count": 249,
   "metadata": {},
   "outputs": [],
   "source": [
    "X = df_encoded.drop(\"price\", axis=1)\n",
    "y = df_encoded[\"price\"]"
   ]
  },
  {
   "cell_type": "code",
   "execution_count": 250,
   "metadata": {},
   "outputs": [
    {
     "name": "stdout",
     "output_type": "stream",
     "text": [
      "   carat  depth  table     x     y     z  cut_encoded  color_encoded  \\\n",
      "0   0.23   61.5   55.0  3.95  3.98  2.43            4              5   \n",
      "1   0.21   59.8   61.0  3.89  3.84  2.31            3              5   \n",
      "2   0.23   56.9   65.0  4.05  4.07  2.31            1              5   \n",
      "3   0.29   62.4   58.0  4.20  4.23  2.63            3              1   \n",
      "4   0.31   63.3   58.0  4.34  4.35  2.75            1              0   \n",
      "\n",
      "   clarity_encoded  \n",
      "0                1  \n",
      "1                2  \n",
      "2                4  \n",
      "3                3  \n",
      "4                1   \n",
      "\n",
      "0    326\n",
      "1    326\n",
      "2    327\n",
      "3    334\n",
      "4    335\n",
      "Name: price, dtype: int64\n"
     ]
    }
   ],
   "source": [
    "print(X.head(), \"\\n\")\n",
    "print(y.head())"
   ]
  },
  {
   "cell_type": "code",
   "execution_count": 291,
   "metadata": {},
   "outputs": [],
   "source": [
    "X_train, X_test, y_train, y_test = train_test_split(X, y, random_state=3)"
   ]
  },
  {
   "cell_type": "code",
   "execution_count": 292,
   "metadata": {},
   "outputs": [
    {
     "data": {
      "text/plain": [
       "((40455, 9), (40455,))"
      ]
     },
     "execution_count": 292,
     "metadata": {},
     "output_type": "execute_result"
    }
   ],
   "source": [
    "X_train.shape, y_train.shape,"
   ]
  },
  {
   "cell_type": "code",
   "execution_count": 293,
   "metadata": {},
   "outputs": [
    {
     "data": {
      "text/plain": [
       "((13485, 9), (13485,))"
      ]
     },
     "execution_count": 293,
     "metadata": {},
     "output_type": "execute_result"
    }
   ],
   "source": [
    "X_test.shape, y_test.shape"
   ]
  },
  {
   "cell_type": "markdown",
   "metadata": {},
   "source": [
    "Обучение модели ближайших соседей для произвольно заданного гиперпараметра K. Оценка качества модели с помощью подходящих для задачи метрик."
   ]
  },
  {
   "cell_type": "code",
   "execution_count": 211,
   "metadata": {},
   "outputs": [],
   "source": [
    "from sklearn.neighbors import KNeighborsRegressor"
   ]
  },
  {
   "cell_type": "code",
   "execution_count": 327,
   "metadata": {},
   "outputs": [
    {
     "data": {
      "text/plain": [
       "(13485,\n",
       " array([  925.24900458, 12737.63908297,  8511.28378792, ...,\n",
       "          448.57625998,  4477.75121683,  3341.67269561]))"
      ]
     },
     "execution_count": 327,
     "metadata": {},
     "output_type": "execute_result"
    }
   ],
   "source": [
    "clf = KNeighborsRegressor(n_neighbors=2, weights='distance')  \n",
    "clf.fit(X_train, y_train)\n",
    "y_pred = clf.predict(X_test)\n",
    "len(y_pred), y_pred"
   ]
  },
  {
   "cell_type": "code",
   "execution_count": 328,
   "metadata": {},
   "outputs": [
    {
     "data": {
      "image/png": "[encoded data removed]",
      "text/plain": [
       "<Figure size 1000x300 with 1 Axes>"
      ]
     },
     "metadata": {},
     "output_type": "display_data"
    }
   ],
   "source": [
    "uniform  = []\n",
    "distance = []\n",
    "r = range (1,50,2)\n",
    "\n",
    "for k in r:\n",
    "\n",
    "    model = KNeighborsRegressor(n_neighbors = k, weights='uniform')\n",
    "    model.fit(X_train.values, y_train.values)\n",
    "    uniform.append(model.score(X_test.values,y_test.values))\n",
    "\n",
    "    model = KNeighborsRegressor(n_neighbors = k, weights='distance') \n",
    "    model.fit(X_train.values, y_train.values)\n",
    "    distance.append(model.score(X_test.values,y_test.values))\n",
    "\n",
    "uniform = np.array(uniform)\n",
    "distance = np.array(distance)\n",
    "\n",
    "plt.rcParams['figure.figsize'] = [10, 3]\n",
    "plt.rcParams['figure.dpi'] = 100 \n",
    "plt.plot(r,uniform,label='uniform',color='blue')\n",
    "plt.plot(r,distance,label='distance',color='red')\n",
    "plt.legend()\n",
    "plt.gca().set_xticks(r)\n",
    "plt.show()"
   ]
  },
  {
   "cell_type": "code",
   "execution_count": 325,
   "metadata": {},
   "outputs": [
    {
     "name": "stdout",
     "output_type": "stream",
     "text": [
      "R-squared: 0.9613677688121631\n"
     ]
    }
   ],
   "source": [
    "performance = clf.score(X_test, y_test)\n",
    "print(\"R-squared:\", performance)"
   ]
  },
  {
   "cell_type": "code",
   "execution_count": 299,
   "metadata": {},
   "outputs": [
    {
     "data": {
      "text/plain": [
       "36681     951\n",
       "21314    9467\n",
       "19527    8162\n",
       "41099    1193\n",
       "446      2816\n",
       "Name: price, dtype: int64"
      ]
     },
     "execution_count": 299,
     "metadata": {},
     "output_type": "execute_result"
    }
   ],
   "source": [
    "y_test.head()"
   ]
  },
  {
   "cell_type": "markdown",
   "metadata": {},
   "source": [
    "Оценим качество модели"
   ]
  },
  {
   "cell_type": "code",
   "execution_count": 213,
   "metadata": {},
   "outputs": [],
   "source": [
    "from sklearn.metrics import mean_absolute_error, mean_squared_error, r2_score"
   ]
  },
  {
   "cell_type": "code",
   "execution_count": 326,
   "metadata": {},
   "outputs": [
    {
     "name": "stdout",
     "output_type": "stream",
     "text": [
      "Mean Absolute Error: 406.67656747522767\n",
      "Mean Squared Error: 607296.743443547\n",
      "R-squared Score: 0.9613677688121631\n"
     ]
    }
   ],
   "source": [
    "# Вычисление средней абсолютной ошибки\n",
    "mae = mean_absolute_error(y_test, y_pred)\n",
    "print(\"Mean Absolute Error:\", mae)\n",
    "\n",
    "# Вычисление средней квадратичной ошибки\n",
    "mse = mean_squared_error(y_test, y_pred)\n",
    "print(\"Mean Squared Error:\", mse)\n",
    "\n",
    "# Вычисление коэффициента детерминации\n",
    "r2 = r2_score(y_test, y_pred)\n",
    "print(\"R-squared Score:\", r2)"
   ]
  },
  {
   "cell_type": "markdown",
   "metadata": {},
   "source": [
    "## Подбор гиперпараметра K с использованием GridSearchCV и RandomizedSearchCV и кросс-валидации, оценка качество оптимальной модели."
   ]
  },
  {
   "cell_type": "markdown",
   "metadata": {},
   "source": [
    "### GridSearchCV"
   ]
  },
  {
   "cell_type": "code",
   "execution_count": 373,
   "metadata": {},
   "outputs": [],
   "source": [
    "from sklearn.model_selection import GridSearchCV, RandomizedSearchCV\n",
    "from sklearn.metrics import mean_squared_error, make_scorer, r2_score, median_absolute_error"
   ]
  },
  {
   "cell_type": "code",
   "execution_count": 347,
   "metadata": {},
   "outputs": [],
   "source": [
    "\n",
    "knn = KNeighborsRegressor()\n",
    "\n",
    "# Задаем пространство поиска гиперпараметра K для GridSearchCV\n",
    "param_grid = {'n_neighbors': np.arange(1, 21)}\n",
    "\n",
    "# Задаем пространство поиска гиперпараметра K для RandomizedSearchCV\n",
    "param_dist = {'n_neighbors': np.random.randint(1, 21, 10)}\n",
    "\n",
    "\n",
    "r2_scorer = make_scorer(r2_score)"
   ]
  },
  {
   "cell_type": "code",
   "execution_count": 338,
   "metadata": {},
   "outputs": [],
   "source": [
    "# Используем GridSearchCV\n",
    "grid_search = GridSearchCV(knn, param_grid, cv=10, scoring=r2_scorer)\n",
    "grid_search.fit(X_train, y_train)\n",
    "\n",
    "# Получаем оптимальное значение гиперпараметра K\n",
    "optimal_k_grid = grid_search.best_params_['n_neighbors']\n"
   ]
  },
  {
   "cell_type": "code",
   "execution_count": 340,
   "metadata": {},
   "outputs": [
    {
     "name": "stdout",
     "output_type": "stream",
     "text": [
      "Лучшие параметры: {'n_neighbors': 9}\n",
      "Лучшая оценка метрики R2 или коэффициента детерминации: 0.9526600872473179\n"
     ]
    }
   ],
   "source": [
    "print(\"Лучшие параметры:\", grid_search.best_params_)\n",
    "print(\"Лучшая оценка метрики R2 или коэффициента детерминации:\", grid_search.best_score_)"
   ]
  },
  {
   "cell_type": "code",
   "execution_count": 341,
   "metadata": {},
   "outputs": [
    {
     "name": "stdout",
     "output_type": "stream",
     "text": [
      "Результаты кросс-валидации:\n",
      "{'mean_fit_time': array([0.1085022 , 0.10404367, 0.10403903, 0.10638301, 0.10204918,\n",
      "       0.10069633, 0.09906824, 0.09914663, 0.09735172, 0.09855745,\n",
      "       0.1003993 , 0.09969926, 0.09996309, 0.09849248, 0.09737835,\n",
      "       0.09903681, 0.0973134 , 0.09934928, 0.09852107, 0.09874332]), 'std_fit_time': array([0.00769161, 0.00414335, 0.00500939, 0.00609617, 0.00437521,\n",
      "       0.00332693, 0.00289201, 0.00366959, 0.00188539, 0.00377323,\n",
      "       0.00329007, 0.00242015, 0.00346619, 0.0023429 , 0.0041152 ,\n",
      "       0.00310962, 0.00279855, 0.00232849, 0.00244531, 0.0027294 ]), 'mean_score_time': array([0.08517904, 0.10097377, 0.11486745, 0.13026521, 0.13429415,\n",
      "       0.13607726, 0.14413972, 0.15034356, 0.15689492, 0.16615698,\n",
      "       0.17536936, 0.18166037, 0.18623803, 0.19213808, 0.19005504,\n",
      "       0.20197661, 0.20356922, 0.21716609, 0.21624475, 0.21974146]), 'std_score_time': array([0.0212339 , 0.0191354 , 0.01217399, 0.01222602, 0.01864185,\n",
      "       0.00905513, 0.00599846, 0.00740183, 0.01031874, 0.00929175,\n",
      "       0.01076787, 0.00902074, 0.0079908 , 0.01360997, 0.00819778,\n",
      "       0.00981943, 0.01368023, 0.01435088, 0.0136072 , 0.00812554]), 'param_n_neighbors': masked_array(data=[1, 2, 3, 4, 5, 6, 7, 8, 9, 10, 11, 12, 13, 14, 15, 16,\n",
      "                   17, 18, 19, 20],\n",
      "             mask=[False, False, False, False, False, False, False, False,\n",
      "                   False, False, False, False, False, False, False, False,\n",
      "                   False, False, False, False],\n",
      "       fill_value='?',\n",
      "            dtype=object), 'params': [{'n_neighbors': 1}, {'n_neighbors': 2}, {'n_neighbors': 3}, {'n_neighbors': 4}, {'n_neighbors': 5}, {'n_neighbors': 6}, {'n_neighbors': 7}, {'n_neighbors': 8}, {'n_neighbors': 9}, {'n_neighbors': 10}, {'n_neighbors': 11}, {'n_neighbors': 12}, {'n_neighbors': 13}, {'n_neighbors': 14}, {'n_neighbors': 15}, {'n_neighbors': 16}, {'n_neighbors': 17}, {'n_neighbors': 18}, {'n_neighbors': 19}, {'n_neighbors': 20}], 'split0_test_score': array([0.92990382, 0.94027666, 0.94569201, 0.94712797, 0.94732855,\n",
      "       0.94727242, 0.94820842, 0.94822156, 0.94831363, 0.94798662,\n",
      "       0.94742926, 0.94772327, 0.94745564, 0.94691319, 0.94638507,\n",
      "       0.94586594, 0.94560755, 0.94543355, 0.94505736, 0.94478719]), 'split1_test_score': array([0.92523318, 0.9395816 , 0.94367302, 0.9464422 , 0.94844985,\n",
      "       0.94961637, 0.949734  , 0.95035858, 0.95057068, 0.95084744,\n",
      "       0.95066311, 0.94973712, 0.94967071, 0.94897254, 0.94932315,\n",
      "       0.94850347, 0.94850832, 0.94831866, 0.94808429, 0.94751804]), 'split2_test_score': array([0.93459106, 0.94636345, 0.95052275, 0.95277723, 0.95354442,\n",
      "       0.95232996, 0.95184852, 0.95078718, 0.95095233, 0.95026109,\n",
      "       0.95068739, 0.95072974, 0.95092575, 0.95059633, 0.94942066,\n",
      "       0.94901549, 0.94880669, 0.94837039, 0.9478436 , 0.94756398]), 'split3_test_score': array([0.93052123, 0.94598036, 0.94861043, 0.94968336, 0.95176523,\n",
      "       0.95339981, 0.95473812, 0.95440058, 0.95432927, 0.95371226,\n",
      "       0.95311315, 0.95305118, 0.95254743, 0.9522405 , 0.95148601,\n",
      "       0.95168788, 0.95128688, 0.95074361, 0.95015837, 0.95011961]), 'split4_test_score': array([0.92944548, 0.94978861, 0.95252186, 0.95557733, 0.9562863 ,\n",
      "       0.95692613, 0.95768852, 0.95812461, 0.95789298, 0.95822707,\n",
      "       0.95888824, 0.95889538, 0.95850784, 0.95815545, 0.95816699,\n",
      "       0.95835694, 0.95785956, 0.95782274, 0.95746974, 0.95707299]), 'split5_test_score': array([0.92507994, 0.93899475, 0.9444072 , 0.94732349, 0.94830687,\n",
      "       0.95123318, 0.95218234, 0.95233228, 0.95341475, 0.95383047,\n",
      "       0.95385124, 0.95318465, 0.95332449, 0.95307978, 0.95259919,\n",
      "       0.95214152, 0.9520904 , 0.95220407, 0.95168062, 0.95121819]), 'split6_test_score': array([0.92308024, 0.94191711, 0.94499236, 0.94693434, 0.9480908 ,\n",
      "       0.94916526, 0.94895674, 0.94919597, 0.94899371, 0.94843129,\n",
      "       0.94805772, 0.94851071, 0.94879036, 0.94901991, 0.94866894,\n",
      "       0.94885638, 0.94852671, 0.94844023, 0.9480897 , 0.94754083]), 'split7_test_score': array([0.93290424, 0.94458051, 0.94860387, 0.95425954, 0.95546389,\n",
      "       0.95648775, 0.95584111, 0.95624037, 0.95614498, 0.95627964,\n",
      "       0.95610815, 0.95683783, 0.9566884 , 0.95643854, 0.95626722,\n",
      "       0.95551879, 0.9555889 , 0.95537729, 0.95558309, 0.95523221]), 'split8_test_score': array([0.92677281, 0.94511328, 0.94709705, 0.94991938, 0.94946802,\n",
      "       0.94942817, 0.95056748, 0.94985632, 0.94966468, 0.94921121,\n",
      "       0.94984905, 0.95014134, 0.95047927, 0.95002101, 0.95022723,\n",
      "       0.95001001, 0.94985862, 0.94940578, 0.94948162, 0.94922092]), 'split9_test_score': array([0.92943389, 0.94547907, 0.95077519, 0.95140308, 0.9534535 ,\n",
      "       0.95589844, 0.95604147, 0.95628149, 0.95632386, 0.95583153,\n",
      "       0.95606178, 0.9560655 , 0.95570723, 0.95545505, 0.95498703,\n",
      "       0.95506099, 0.95485801, 0.95447536, 0.95390361, 0.95363804]), 'mean_test_score': array([0.92869659, 0.94380754, 0.94768957, 0.95014479, 0.95121574,\n",
      "       0.95217575, 0.95258067, 0.95257989, 0.95266009, 0.95246186,\n",
      "       0.95247091, 0.95248767, 0.95240971, 0.95208923, 0.95175315,\n",
      "       0.95150174, 0.95129916, 0.95105917, 0.9507352 , 0.9503912 ]), 'std_test_score': array([0.00344471, 0.00330433, 0.00284791, 0.00310319, 0.00313897,\n",
      "       0.00323471, 0.00313772, 0.00327464, 0.00323875, 0.00341898,\n",
      "       0.00357549, 0.00358139, 0.00343943, 0.00347103, 0.00353216,\n",
      "       0.00363867, 0.00361787, 0.00365312, 0.00369213, 0.00369498]), 'rank_test_score': array([20, 19, 18, 17, 13,  8,  2,  3,  1,  6,  5,  4,  7,  9, 10, 11, 12,\n",
      "       14, 15, 16])}\n"
     ]
    }
   ],
   "source": [
    "print(\"Результаты кросс-валидации:\")\n",
    "print(grid_search.cv_results_)\n"
   ]
  },
  {
   "cell_type": "code",
   "execution_count": 343,
   "metadata": {},
   "outputs": [
    {
     "name": "stdout",
     "output_type": "stream",
     "text": [
      "\n",
      "Средние значения метрики по кросс-валидации:\n",
      "[0.92869659 0.94380754 0.94768957 0.95014479 0.95121574 0.95217575\n",
      " 0.95258067 0.95257989 0.95266009 0.95246186 0.95247091 0.95248767\n",
      " 0.95240971 0.95208923 0.95175315 0.95150174 0.95129916 0.95105917\n",
      " 0.9507352  0.9503912 ]\n"
     ]
    }
   ],
   "source": [
    "print(\"\\nСредние значения метрики по кросс-валидации:\")\n",
    "print(grid_search.cv_results_['mean_test_score'])\n"
   ]
  },
  {
   "cell_type": "code",
   "execution_count": 344,
   "metadata": {},
   "outputs": [
    {
     "name": "stdout",
     "output_type": "stream",
     "text": [
      "\n",
      "Стандартное отклонение метрики по кросс-валидации:\n",
      "[0.00344471 0.00330433 0.00284791 0.00310319 0.00313897 0.00323471\n",
      " 0.00313772 0.00327464 0.00323875 0.00341898 0.00357549 0.00358139\n",
      " 0.00343943 0.00347103 0.00353216 0.00363867 0.00361787 0.00365312\n",
      " 0.00369213 0.00369498]\n"
     ]
    }
   ],
   "source": [
    "print(\"\\nСтандартное отклонение метрики по кросс-валидации:\")\n",
    "print(grid_search.cv_results_['std_test_score'])"
   ]
  },
  {
   "cell_type": "markdown",
   "metadata": {},
   "source": [
    "Изменение качества на тестовой выборке в зависимости от К-соседей:"
   ]
  },
  {
   "cell_type": "code",
   "execution_count": 345,
   "metadata": {},
   "outputs": [
    {
     "data": {
      "text/plain": [
       "[<matplotlib.lines.Line2D at 0x17fcf8ce290>]"
      ]
     },
     "execution_count": 345,
     "metadata": {},
     "output_type": "execute_result"
    },
    {
     "data": {
      "image/png": "[encoded data removed]",
      "text/plain": [
       "<Figure size 1000x300 with 1 Axes>"
      ]
     },
     "metadata": {},
     "output_type": "display_data"
    }
   ],
   "source": [
    "plt.plot(np.arange(1, 21), grid_search.cv_results_['mean_test_score'])"
   ]
  },
  {
   "cell_type": "markdown",
   "metadata": {},
   "source": [
    "### RandomizedSearchCV "
   ]
  },
  {
   "cell_type": "code",
   "execution_count": 358,
   "metadata": {},
   "outputs": [],
   "source": [
    "# Используем RandomizedSearchCV\n",
    "random_search = RandomizedSearchCV(knn, param_distributions=param_dist, n_iter=50, cv=55, scoring=r2_scorer, random_state=42)\n",
    "random_search.fit(X_train, y_train)\n",
    "\n",
    "# Получаем оптимальное значение гиперпараметра K\n",
    "optimal_k_random = random_search.best_params_['n_neighbors']\n"
   ]
  },
  {
   "cell_type": "code",
   "execution_count": 360,
   "metadata": {},
   "outputs": [
    {
     "name": "stdout",
     "output_type": "stream",
     "text": [
      "Лучшие параметры: {'n_neighbors': 8}\n",
      "Лучшая оценка метрики R2 или коэффициента детерминации: 0.9533990404851695\n"
     ]
    }
   ],
   "source": [
    "print(\"Лучшие параметры:\", random_search.best_params_)\n",
    "print(\"Лучшая оценка метрики R2 или коэффициента детерминации:\", random_search.best_score_)"
   ]
  },
  {
   "cell_type": "code",
   "execution_count": 361,
   "metadata": {},
   "outputs": [
    {
     "name": "stdout",
     "output_type": "stream",
     "text": [
      "Результаты кросс-валидации:\n",
      "{'mean_fit_time': array([0.11318849, 0.1080952 , 0.10698977, 0.10584924, 0.10788989,\n",
      "       0.10667898, 0.10665126, 0.10618365, 0.10682839, 0.10788258]), 'std_fit_time': array([0.00621268, 0.00306353, 0.00232603, 0.00251934, 0.0044041 ,\n",
      "       0.00285658, 0.00386986, 0.00211016, 0.00346489, 0.00392655]), 'mean_score_time': array([0.04273197, 0.04232989, 0.04652317, 0.02804781, 0.0414495 ,\n",
      "       0.02876669, 0.02469715, 0.04246769, 0.03166675, 0.03615788]), 'std_score_time': array([0.01029132, 0.00323271, 0.00839009, 0.00202944, 0.00718782,\n",
      "       0.00246087, 0.00282423, 0.00294758, 0.00214678, 0.01059235]), 'param_n_neighbors': masked_array(data=[11, 16, 20, 6, 14, 6, 4, 17, 8, 10],\n",
      "             mask=[False, False, False, False, False, False, False, False,\n",
      "                   False, False],\n",
      "       fill_value='?',\n",
      "            dtype=object), 'params': [{'n_neighbors': 11}, {'n_neighbors': 16}, {'n_neighbors': 20}, {'n_neighbors': 6}, {'n_neighbors': 14}, {'n_neighbors': 6}, {'n_neighbors': 4}, {'n_neighbors': 17}, {'n_neighbors': 8}, {'n_neighbors': 10}], 'split0_test_score': array([0.95586597, 0.95632925, 0.95572989, 0.96075964, 0.95732327,\n",
      "       0.96075964, 0.95901848, 0.9563539 , 0.95995451, 0.95809258]), 'split1_test_score': array([0.93747537, 0.93742957, 0.93600554, 0.93898835, 0.93792946,\n",
      "       0.93898835, 0.94216421, 0.93744372, 0.93764939, 0.93836262]), 'split2_test_score': array([0.94518595, 0.94654964, 0.9446813 , 0.94556928, 0.94822585,\n",
      "       0.94556928, 0.9464272 , 0.94572752, 0.94565244, 0.94481638]), 'split3_test_score': array([0.94898836, 0.94784834, 0.94694085, 0.94982287, 0.94965344,\n",
      "       0.94982287, 0.95654022, 0.94780427, 0.94894484, 0.94866996]), 'split4_test_score': array([0.94594388, 0.94362767, 0.94131614, 0.94354989, 0.94475597,\n",
      "       0.94354989, 0.93652314, 0.9422502 , 0.94620416, 0.94689418]), 'split5_test_score': array([0.96272372, 0.95860306, 0.95723392, 0.95844651, 0.96061406,\n",
      "       0.95844651, 0.95871025, 0.95805825, 0.95902586, 0.96106503]), 'split6_test_score': array([0.95378886, 0.95043011, 0.94815857, 0.94808509, 0.95051992,\n",
      "       0.94808509, 0.94636949, 0.95047656, 0.95112718, 0.95343126]), 'split7_test_score': array([0.95816259, 0.95632245, 0.95516957, 0.95911079, 0.95752341,\n",
      "       0.95911079, 0.95537485, 0.95551898, 0.9592489 , 0.95870803]), 'split8_test_score': array([0.95671287, 0.95593626, 0.95486762, 0.95487864, 0.95784457,\n",
      "       0.95487864, 0.95229483, 0.95477702, 0.95960332, 0.95762429]), 'split9_test_score': array([0.92965829, 0.92814909, 0.92820147, 0.9325608 , 0.92822299,\n",
      "       0.9325608 , 0.92644179, 0.92720854, 0.92929652, 0.93027961]), 'split10_test_score': array([0.95890601, 0.95904613, 0.95805564, 0.9627908 , 0.95721994,\n",
      "       0.9627908 , 0.95907135, 0.95923701, 0.96145669, 0.95841965]), 'split11_test_score': array([0.95874388, 0.95925999, 0.95653778, 0.95896192, 0.95998419,\n",
      "       0.95896192, 0.95844504, 0.95912947, 0.95733637, 0.95706642]), 'split12_test_score': array([0.96046238, 0.95844273, 0.9560235 , 0.96040187, 0.96077571,\n",
      "       0.96040187, 0.95975024, 0.95812425, 0.96136034, 0.95981793]), 'split13_test_score': array([0.95862925, 0.956295  , 0.9556707 , 0.95926129, 0.95714733,\n",
      "       0.95926129, 0.9569088 , 0.95632016, 0.95988147, 0.95830358]), 'split14_test_score': array([0.92550236, 0.92094197, 0.91907696, 0.93228425, 0.9240606 ,\n",
      "       0.93228425, 0.93356892, 0.91982944, 0.92760859, 0.92611552]), 'split15_test_score': array([0.95393652, 0.95439411, 0.95290123, 0.95675013, 0.95616215,\n",
      "       0.95675013, 0.95523168, 0.95351888, 0.95447415, 0.95243624]), 'split16_test_score': array([0.95966431, 0.96014131, 0.95811192, 0.95852059, 0.95966457,\n",
      "       0.95852059, 0.95774577, 0.96042125, 0.95869948, 0.95982853]), 'split17_test_score': array([0.94946938, 0.94522433, 0.94370224, 0.94621223, 0.94687238,\n",
      "       0.94621223, 0.94370824, 0.94497812, 0.94943656, 0.95108168]), 'split18_test_score': array([0.95391718, 0.95290796, 0.95254826, 0.95169116, 0.95418408,\n",
      "       0.95169116, 0.94745212, 0.95358604, 0.95378143, 0.95346886]), 'split19_test_score': array([0.94903106, 0.94387869, 0.94281927, 0.94572677, 0.94608911,\n",
      "       0.94572677, 0.94688637, 0.94495973, 0.94842819, 0.94898318]), 'split20_test_score': array([0.95648982, 0.95207347, 0.95076643, 0.95624769, 0.95310882,\n",
      "       0.95624769, 0.95560607, 0.95162741, 0.95801126, 0.95733159]), 'split21_test_score': array([0.96056325, 0.95923095, 0.95654304, 0.96066271, 0.95973728,\n",
      "       0.96066271, 0.95752155, 0.95869094, 0.96030498, 0.95990956]), 'split22_test_score': array([0.96116324, 0.96085066, 0.96246401, 0.95687455, 0.96101641,\n",
      "       0.95687455, 0.95348975, 0.96215333, 0.95735091, 0.96138211]), 'split23_test_score': array([0.96525912, 0.96488269, 0.96458867, 0.96473142, 0.96471588,\n",
      "       0.96473142, 0.96511899, 0.96542467, 0.9645629 , 0.96470385]), 'split24_test_score': array([0.9592811 , 0.95661352, 0.957815  , 0.95929313, 0.9576405 ,\n",
      "       0.95929313, 0.95791592, 0.95682755, 0.95925071, 0.9585958 ]), 'split25_test_score': array([0.95398112, 0.95132485, 0.94910785, 0.95450321, 0.95285927,\n",
      "       0.95450321, 0.95500052, 0.94961328, 0.95427757, 0.95430628]), 'split26_test_score': array([0.95197528, 0.95212526, 0.95205318, 0.95235919, 0.9522231 ,\n",
      "       0.95235919, 0.95059317, 0.95229647, 0.95016202, 0.95087118]), 'split27_test_score': array([0.95728394, 0.95853203, 0.96066757, 0.95889102, 0.96004226,\n",
      "       0.95889102, 0.95268334, 0.95831518, 0.95859556, 0.95644716]), 'split28_test_score': array([0.95547334, 0.95560366, 0.954639  , 0.95509452, 0.95513263,\n",
      "       0.95509452, 0.95216662, 0.95581412, 0.95469113, 0.95439818]), 'split29_test_score': array([0.9440272 , 0.9415983 , 0.94145151, 0.94294073, 0.94263283,\n",
      "       0.94294073, 0.94104866, 0.94098983, 0.94156428, 0.94308468]), 'split30_test_score': array([0.94896883, 0.94861703, 0.94784946, 0.94406555, 0.95014631,\n",
      "       0.94406555, 0.94140521, 0.94809056, 0.94539531, 0.94949465]), 'split31_test_score': array([0.9601903 , 0.95602468, 0.95314155, 0.95281239, 0.95782135,\n",
      "       0.95281239, 0.95359139, 0.95500113, 0.95746767, 0.95980688]), 'split32_test_score': array([0.9635464 , 0.96432974, 0.96275769, 0.9634073 , 0.96468933,\n",
      "       0.9634073 , 0.95776004, 0.96332515, 0.96285325, 0.96445981]), 'split33_test_score': array([0.95030381, 0.94926243, 0.94878512, 0.94944882, 0.95050264,\n",
      "       0.94944882, 0.94713911, 0.94994163, 0.94987294, 0.95049693]), 'split34_test_score': array([0.9444605 , 0.94601698, 0.9470215 , 0.94239354, 0.94592628,\n",
      "       0.94239354, 0.93776493, 0.94693751, 0.9442385 , 0.94537841]), 'split35_test_score': array([0.94999629, 0.95164132, 0.95123488, 0.95031549, 0.95045667,\n",
      "       0.95031549, 0.95336138, 0.95120087, 0.95125055, 0.94954458]), 'split36_test_score': array([0.94558605, 0.94863155, 0.94769073, 0.95360243, 0.94782917,\n",
      "       0.95360243, 0.94606998, 0.94825527, 0.9506645 , 0.94595258]), 'split37_test_score': array([0.94858609, 0.94660697, 0.94414026, 0.94645353, 0.94761186,\n",
      "       0.94645353, 0.94421113, 0.94618142, 0.94798809, 0.94845038]), 'split38_test_score': array([0.95113091, 0.95235003, 0.95375275, 0.95638298, 0.95257281,\n",
      "       0.95638298, 0.9499654 , 0.95265713, 0.95567111, 0.9529516 ]), 'split39_test_score': array([0.95851435, 0.95773355, 0.95725208, 0.95735234, 0.95809472,\n",
      "       0.95735234, 0.95423066, 0.95797941, 0.96070601, 0.95988895]), 'split40_test_score': array([0.95103269, 0.95117679, 0.94944626, 0.950415  , 0.95087513,\n",
      "       0.950415  , 0.95012485, 0.95102762, 0.95067644, 0.95099292]), 'split41_test_score': array([0.96019188, 0.96051067, 0.9607809 , 0.955564  , 0.96060128,\n",
      "       0.955564  , 0.95308431, 0.9599815 , 0.95874996, 0.95837376]), 'split42_test_score': array([0.9598633 , 0.95992491, 0.95823736, 0.96128968, 0.95962359,\n",
      "       0.96128968, 0.95776708, 0.95866863, 0.96128122, 0.96055469]), 'split43_test_score': array([0.95769644, 0.95704893, 0.95579872, 0.95527295, 0.95816559,\n",
      "       0.95527295, 0.95748792, 0.95701473, 0.95714943, 0.95778121]), 'split44_test_score': array([0.96160177, 0.95913251, 0.95816214, 0.96372728, 0.95974449,\n",
      "       0.96372728, 0.96159605, 0.9581861 , 0.96475113, 0.9629154 ]), 'split45_test_score': array([0.93400258, 0.93437929, 0.93625258, 0.93606196, 0.93260094,\n",
      "       0.93606196, 0.93794097, 0.93391308, 0.93574272, 0.93446628]), 'split46_test_score': array([0.95218801, 0.95397676, 0.95152198, 0.95341621, 0.95447966,\n",
      "       0.95341621, 0.95001797, 0.95338371, 0.95235863, 0.95248094]), 'split47_test_score': array([0.95000869, 0.95010352, 0.94880435, 0.95309855, 0.95042134,\n",
      "       0.95309855, 0.9558535 , 0.94951759, 0.95171625, 0.95123313]), 'split48_test_score': array([0.95140437, 0.95012294, 0.94889518, 0.95036589, 0.9498453 ,\n",
      "       0.95036589, 0.95241145, 0.95018318, 0.94991542, 0.94869996]), 'split49_test_score': array([0.95182062, 0.95126827, 0.94955612, 0.95028766, 0.95119705,\n",
      "       0.95028766, 0.94730202, 0.95135425, 0.9507486 , 0.95050235]), 'split50_test_score': array([0.95551489, 0.95646737, 0.9541619 , 0.95431269, 0.95586438,\n",
      "       0.95431269, 0.94939862, 0.95573487, 0.95593701, 0.95474004]), 'split51_test_score': array([0.95679669, 0.95524384, 0.95471334, 0.95589679, 0.95717242,\n",
      "       0.95589679, 0.95387826, 0.95397711, 0.95656857, 0.95785023]), 'split52_test_score': array([0.96395973, 0.96384452, 0.96074932, 0.95991667, 0.96545492,\n",
      "       0.95991667, 0.96000601, 0.96377264, 0.96476563, 0.96422422]), 'split53_test_score': array([0.95769373, 0.95476525, 0.95223798, 0.9598695 , 0.95538684,\n",
      "       0.9598695 , 0.95601977, 0.95478327, 0.95881891, 0.95745809]), 'split54_test_score': array([0.95542056, 0.95856723, 0.95902813, 0.95304799, 0.95771435,\n",
      "       0.95304799, 0.94973524, 0.95873585, 0.95371767, 0.95358291]), 'mean_test_score': array([0.95324991, 0.95240618, 0.95137856, 0.95299542, 0.95306692,\n",
      "       0.95299542, 0.95123456, 0.95213237, 0.95339904, 0.95321412]), 'std_test_score': array([0.00807953, 0.00834954, 0.00833906, 0.0075446 , 0.00826921,\n",
      "       0.0075446 , 0.00760457, 0.00846991, 0.00806192, 0.00794229]), 'rank_test_score': array([ 2,  7,  9,  5,  4,  5, 10,  8,  1,  3])}\n"
     ]
    }
   ],
   "source": [
    "print(\"Результаты кросс-валидации:\")\n",
    "print(random_search.cv_results_)"
   ]
  },
  {
   "cell_type": "code",
   "execution_count": 362,
   "metadata": {},
   "outputs": [
    {
     "name": "stdout",
     "output_type": "stream",
     "text": [
      "\n",
      "Лучшая модель:\n",
      "KNeighborsRegressor(n_neighbors=8)\n"
     ]
    }
   ],
   "source": [
    "print(\"\\nЛучшая модель:\")\n",
    "print(random_search.best_estimator_)"
   ]
  },
  {
   "cell_type": "code",
   "execution_count": 363,
   "metadata": {},
   "outputs": [
    {
     "name": "stdout",
     "output_type": "stream",
     "text": [
      "\n",
      "Средние значения метрики по кросс-валидации:\n",
      "[0.95324991 0.95240618 0.95137856 0.95299542 0.95306692 0.95299542\n",
      " 0.95123456 0.95213237 0.95339904 0.95321412]\n"
     ]
    }
   ],
   "source": [
    "print(\"\\nСредние значения метрики по кросс-валидации:\")\n",
    "print(random_search.cv_results_['mean_test_score'])"
   ]
  },
  {
   "cell_type": "code",
   "execution_count": 364,
   "metadata": {},
   "outputs": [
    {
     "name": "stdout",
     "output_type": "stream",
     "text": [
      "\n",
      "Стандартное отклонение метрики по кросс-валидации:\n",
      "[0.00807953 0.00834954 0.00833906 0.0075446  0.00826921 0.0075446\n",
      " 0.00760457 0.00846991 0.00806192 0.00794229]\n"
     ]
    }
   ],
   "source": [
    "print(\"\\nСтандартное отклонение метрики по кросс-валидации:\")\n",
    "print(random_search.cv_results_['std_test_score'])"
   ]
  },
  {
   "cell_type": "markdown",
   "metadata": {},
   "source": [
    "### Построение оптимальной модели (k = 9)"
   ]
  },
  {
   "cell_type": "code",
   "execution_count": 369,
   "metadata": {},
   "outputs": [
    {
     "data": {
      "text/plain": [
       "(13485,\n",
       " array([  877.63538768, 12076.38323041,  8815.15857298, ...,\n",
       "          497.15657555,  4681.69322114,  4712.86591814]))"
      ]
     },
     "execution_count": 369,
     "metadata": {},
     "output_type": "execute_result"
    }
   ],
   "source": [
    "clf_o = KNeighborsRegressor(n_neighbors=9, weights='distance')  \n",
    "clf_o.fit(X_train, y_train)\n",
    "target_o = clf_o.predict(X_test)\n",
    "len(target_o), target_o"
   ]
  },
  {
   "cell_type": "markdown",
   "metadata": {},
   "source": [
    "## Сравнение метрик качества исходной и оптимальной моделей."
   ]
  },
  {
   "cell_type": "code",
   "execution_count": 376,
   "metadata": {},
   "outputs": [
    {
     "name": "stdout",
     "output_type": "stream",
     "text": [
      "Mean Absolute Error: 463.09288870425587\n",
      "Mean Squared Error: 791758.8895621457\n",
      "Медианное абсолютное отклонение: 180.38219030615574\n",
      "R-squared Score: 0.9496334982908843\n"
     ]
    }
   ],
   "source": [
    "# Вычисление средней абсолютной ошибки\n",
    "mae = mean_absolute_error(y_test, y_pred)\n",
    "print(\"Mean Absolute Error:\", mae)\n",
    "\n",
    "# Вычисление средней квадратичной ошибки\n",
    "mse = mean_squared_error(y_test, y_pred)\n",
    "print(\"Mean Squared Error:\", mse)\n",
    "\n",
    "med_abs_err = median_absolute_error(y_test, y_pred)\n",
    "print(\"Медианное абсолютное отклонение:\", med_abs_err)\n",
    "\n",
    "# Вычисление коэффициента детерминации\n",
    "r2 = r2_score(y_test, y_pred)\n",
    "print(\"R-squared Score:\", r2)"
   ]
  },
  {
   "cell_type": "code",
   "execution_count": 375,
   "metadata": {},
   "outputs": [
    {
     "name": "stdout",
     "output_type": "stream",
     "text": [
      "Средняя абсолютная ошибка: 406.67656747522767\n",
      "Средняя квадратичная ошибка: 607296.743443547\n",
      "Медианное абсолютное отклонение: 170.3296485643491\n",
      "Метрика R2 или коэффициент детерминации: 0.9613677688121631\n"
     ]
    }
   ],
   "source": [
    "# Вычисление средней абсолютной ошибки\n",
    "mae = mean_absolute_error(y_test, target_o)\n",
    "print(\"Средняя абсолютная ошибка:\", mae)\n",
    "\n",
    "# Вычисление средней квадратичной ошибки\n",
    "mse = mean_squared_error(y_test, target_o)\n",
    "print(\"Средняя квадратичная ошибка:\", mse)\n",
    "\n",
    "med_abs_err = median_absolute_error(y_test, target_o)\n",
    "print(\"Медианное абсолютное отклонение:\", med_abs_err)\n",
    "\n",
    "# Вычисление коэффициента детерминации\n",
    "r2 = r2_score(y_test, target_o)\n",
    "print(\"Метрика R2 или коэффициент детерминации:\", r2)"
   ]
  }
 ],
 "metadata": {
  "kernelspec": {
   "display_name": "base",
   "language": "python",
   "name": "python3"
  },
  "language_info": {
   "codemirror_mode": {
    "name": "ipython",
    "version": 3
   },
   "file_extension": ".py",
   "mimetype": "text/x-python",
   "name": "python",
   "nbconvert_exporter": "python",
   "pygments_lexer": "ipython3",
   "version": "3.11.5"
  }
 },
 "nbformat": 4,
 "nbformat_minor": 2
}
